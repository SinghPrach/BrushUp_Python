{
  "nbformat": 4,
  "nbformat_minor": 0,
  "metadata": {
    "colab": {
      "provenance": [],
      "authorship_tag": "ABX9TyO7p4KCAbf4HgYwUysV6BIq"
    },
    "kernelspec": {
      "name": "python3",
      "display_name": "Python 3"
    },
    "language_info": {
      "name": "python"
    }
  },
  "cells": [
    {
      "cell_type": "markdown",
      "source": [
        "Python File Handling"
      ],
      "metadata": {
        "id": "T4ALheP7bgdO"
      }
    },
    {
      "cell_type": "code",
      "execution_count": 4,
      "metadata": {
        "colab": {
          "base_uri": "https://localhost:8080/"
        },
        "id": "7lyzIOPRbbzN",
        "outputId": "80fea180-4f86-4de2-8b4e-9dcc2e335e6c"
      },
      "outputs": [
        {
          "output_type": "stream",
          "name": "stdout",
          "text": [
            "My\n",
            "\n",
            "\n",
            "\n",
            "Name\n",
            "\n",
            "Is\n",
            "\n",
            "\n",
            "\n",
            "Prachi\n",
            "\n",
            "Singh\n",
            "\n",
            ".\n"
          ]
        }
      ],
      "source": [
        "# Read Mode\n",
        "file = open('text_file.txt', 'r')\n",
        "\n",
        "# This will print every line one by one in the file\n",
        "for each in file:\n",
        "    print (each)"
      ]
    },
    {
      "cell_type": "code",
      "source": [
        "file = open(\"text_file.txt\", \"r\")\n",
        "print (file.read())"
      ],
      "metadata": {
        "colab": {
          "base_uri": "https://localhost:8080/"
        },
        "id": "Kz_EWh2Qcm2G",
        "outputId": "6b6dd7f7-7639-42e4-c515-8f66cb1c3229"
      },
      "execution_count": 8,
      "outputs": [
        {
          "output_type": "stream",
          "name": "stdout",
          "text": [
            "My\n",
            "\n",
            "Name\n",
            "Is\n",
            "\n",
            "Prachi\n",
            "Singh\n",
            ".\n"
          ]
        }
      ]
    },
    {
      "cell_type": "code",
      "source": [
        "with open(\"text_file.txt\") as file:\n",
        "    data = file.read()\n",
        "\n",
        "print(data)"
      ],
      "metadata": {
        "colab": {
          "base_uri": "https://localhost:8080/"
        },
        "id": "bCHUp6JKgYGn",
        "outputId": "52c5012f-f3e2-43ec-8c0f-2bfeb6fa160c"
      },
      "execution_count": 7,
      "outputs": [
        {
          "output_type": "stream",
          "name": "stdout",
          "text": [
            "My\n",
            "\n",
            "Name\n",
            "Is\n",
            "\n",
            "Prachi\n",
            "Singh\n",
            ".\n"
          ]
        }
      ]
    },
    {
      "cell_type": "code",
      "source": [
        "file = open('new_file.txt','w')\n",
        "file.write(\"This is the write command\")\n",
        "file.write(\"It allows us to write in a particular file\")\n",
        "file.close()"
      ],
      "metadata": {
        "id": "U3GxARVjgcoS"
      },
      "execution_count": 9,
      "outputs": []
    },
    {
      "cell_type": "code",
      "source": [
        "with open(\"new_file.txt\") as file:\n",
        "    data = file.read()\n",
        "\n",
        "print(data)"
      ],
      "metadata": {
        "colab": {
          "base_uri": "https://localhost:8080/"
        },
        "id": "vcw9y4ltgt6O",
        "outputId": "f7a9e877-fdc8-423e-811a-cfc3233fcca5"
      },
      "execution_count": 10,
      "outputs": [
        {
          "output_type": "stream",
          "name": "stdout",
          "text": [
            "This is the write commandIt allows us to write in a particular file\n"
          ]
        }
      ]
    },
    {
      "cell_type": "code",
      "source": [
        "# File Handling program\n",
        "import os\n",
        "\n",
        "def create_file(filename):\n",
        "\ttry:\n",
        "\t\twith open(filename, 'w') as f:\n",
        "\t\t\tf.write('Hello, world!\\n')\n",
        "\t\tprint(\"File \" + filename + \" created successfully.\")\n",
        "\texcept IOError:\n",
        "\t\tprint(\"Error: could not create file \" + filename)\n",
        "\n",
        "def read_file(filename):\n",
        "\ttry:\n",
        "\t\twith open(filename, 'r') as f:\n",
        "\t\t\tcontents = f.read()\n",
        "\t\t\tprint(contents)\n",
        "\texcept IOError:\n",
        "\t\tprint(\"Error: could not read file \" + filename)\n",
        "\n",
        "def append_file(filename, text):\n",
        "\ttry:\n",
        "\t\twith open(filename, 'a') as f:\n",
        "\t\t\tf.write(text)\n",
        "\t\tprint(\"Text appended to file \" + filename + \" successfully.\")\n",
        "\texcept IOError:\n",
        "\t\tprint(\"Error: could not append to file \" + filename)\n",
        "\n",
        "def rename_file(filename, new_filename):\n",
        "\ttry:\n",
        "\t\tos.rename(filename, new_filename)\n",
        "\t\tprint(\"File \" + filename + \" renamed to \" + new_filename + \" successfully.\")\n",
        "\texcept IOError:\n",
        "\t\tprint(\"Error: could not rename file \" + filename)\n",
        "\n",
        "def delete_file(filename):\n",
        "\ttry:\n",
        "\t\tos.remove(filename)\n",
        "\t\tprint(\"File \" + filename + \" deleted successfully.\")\n",
        "\texcept IOError:\n",
        "\t\tprint(\"Error: could not delete file \" + filename)\n",
        "\n",
        "\n",
        "if __name__ == '__main__':\n",
        "\tfilename = \"example.txt\"\n",
        "\tnew_filename = \"new_example.txt\"\n",
        "\n",
        "\tcreate_file(filename)\n",
        "\tread_file(filename)\n",
        "\tappend_file(filename, \"This is some additional text.\\n\")\n",
        "\tread_file(filename)\n",
        "\trename_file(filename, new_filename)\n",
        "\tread_file(new_filename)\n",
        "\tdelete_file(new_filename)\n"
      ],
      "metadata": {
        "colab": {
          "base_uri": "https://localhost:8080/"
        },
        "id": "Tk6qaN-UgxzJ",
        "outputId": "d1322dfd-2697-4211-805c-c2ceb59fc99b"
      },
      "execution_count": 11,
      "outputs": [
        {
          "output_type": "stream",
          "name": "stdout",
          "text": [
            "File example.txt created successfully.\n",
            "Hello, world!\n",
            "\n",
            "Text appended to file example.txt successfully.\n",
            "Hello, world!\n",
            "This is some additional text.\n",
            "\n",
            "File example.txt renamed to new_example.txt successfully.\n",
            "Hello, world!\n",
            "This is some additional text.\n",
            "\n",
            "File new_example.txt deleted successfully.\n"
          ]
        }
      ]
    },
    {
      "cell_type": "code",
      "source": [
        "marks = 10000\n",
        "\n",
        "# perform division with 0\n",
        "a = marks / 0\n",
        "print(a)"
      ],
      "metadata": {
        "colab": {
          "base_uri": "https://localhost:8080/",
          "height": 225
        },
        "id": "m_ywBQ2ZhBNR",
        "outputId": "4c1322a8-dcfc-4098-d235-75d31d9c1175"
      },
      "execution_count": 12,
      "outputs": [
        {
          "output_type": "error",
          "ename": "ZeroDivisionError",
          "evalue": "ignored",
          "traceback": [
            "\u001b[0;31m---------------------------------------------------------------------------\u001b[0m",
            "\u001b[0;31mZeroDivisionError\u001b[0m                         Traceback (most recent call last)",
            "\u001b[0;32m<ipython-input-12-0cd60b146660>\u001b[0m in \u001b[0;36m<cell line: 4>\u001b[0;34m()\u001b[0m\n\u001b[1;32m      2\u001b[0m \u001b[0;34m\u001b[0m\u001b[0m\n\u001b[1;32m      3\u001b[0m \u001b[0;31m# perform division with 0\u001b[0m\u001b[0;34m\u001b[0m\u001b[0;34m\u001b[0m\u001b[0m\n\u001b[0;32m----> 4\u001b[0;31m \u001b[0ma\u001b[0m \u001b[0;34m=\u001b[0m \u001b[0mmarks\u001b[0m \u001b[0;34m/\u001b[0m \u001b[0;36m0\u001b[0m\u001b[0;34m\u001b[0m\u001b[0;34m\u001b[0m\u001b[0m\n\u001b[0m\u001b[1;32m      5\u001b[0m \u001b[0mprint\u001b[0m\u001b[0;34m(\u001b[0m\u001b[0ma\u001b[0m\u001b[0;34m)\u001b[0m\u001b[0;34m\u001b[0m\u001b[0;34m\u001b[0m\u001b[0m\n",
            "\u001b[0;31mZeroDivisionError\u001b[0m: division by zero"
          ]
        }
      ]
    },
    {
      "cell_type": "code",
      "source": [
        "def divide(x, y):\n",
        "    try:\n",
        "        result = x // y\n",
        "        print(\"Yeah ! Your answer is :\", result)\n",
        "    except ZeroDivisionError:\n",
        "        print(\"Sorry ! You are dividing by zero \")\n",
        "divide(3, 2)\n",
        "divide(3,0)"
      ],
      "metadata": {
        "colab": {
          "base_uri": "https://localhost:8080/"
        },
        "id": "U84l8dFHkXD2",
        "outputId": "7f7e60e6-d06b-43bd-b01b-92e6a3b5184a"
      },
      "execution_count": 13,
      "outputs": [
        {
          "output_type": "stream",
          "name": "stdout",
          "text": [
            "Yeah ! Your answer is : 1\n",
            "Sorry ! You are dividing by zero \n"
          ]
        }
      ]
    },
    {
      "cell_type": "code",
      "source": [
        "print(3/2)\n",
        "print(3//2)"
      ],
      "metadata": {
        "colab": {
          "base_uri": "https://localhost:8080/"
        },
        "id": "0yGewVGEmheg",
        "outputId": "c3d92910-2681-4026-aba4-52b6a3f55224"
      },
      "execution_count": 16,
      "outputs": [
        {
          "output_type": "stream",
          "name": "stdout",
          "text": [
            "1.5\n",
            "1\n"
          ]
        }
      ]
    },
    {
      "cell_type": "code",
      "source": [
        "def divide(x, y):\n",
        "    try:\n",
        "        result = x // y\n",
        "        print(\"Yeah ! Your answer is :\", result)\n",
        "    except Exception as e:\n",
        "        print(\"The error is: \",e)\n",
        "divide(2,0)"
      ],
      "metadata": {
        "colab": {
          "base_uri": "https://localhost:8080/"
        },
        "id": "dNhnIR47ml4V",
        "outputId": "4c7ab0e3-9ed0-44ce-fa09-557f4b24b829"
      },
      "execution_count": 17,
      "outputs": [
        {
          "output_type": "stream",
          "name": "stdout",
          "text": [
            "The error is:  integer division or modulo by zero\n"
          ]
        }
      ]
    },
    {
      "cell_type": "code",
      "source": [
        "def AbyB(a , b):\n",
        "    try:\n",
        "        c = ((a+b) // (a-b))\n",
        "    except ZeroDivisionError:\n",
        "        print (\"a/b result in 0\")\n",
        "    else:\n",
        "        print (c)\n",
        "AbyB(2.0, 3.0)\n",
        "AbyB(3.0, 3.0)"
      ],
      "metadata": {
        "colab": {
          "base_uri": "https://localhost:8080/"
        },
        "id": "G9SmyIbfm1kL",
        "outputId": "9789c1c6-e918-4095-ed5b-90d0f4007e75"
      },
      "execution_count": 19,
      "outputs": [
        {
          "output_type": "stream",
          "name": "stdout",
          "text": [
            "-5.0\n",
            "a/b result in 0\n"
          ]
        }
      ]
    }
  ]
}