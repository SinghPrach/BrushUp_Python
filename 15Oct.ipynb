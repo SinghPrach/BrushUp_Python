{
  "nbformat": 4,
  "nbformat_minor": 0,
  "metadata": {
    "colab": {
      "provenance": [],
      "authorship_tag": "ABX9TyNmNtY3Bv/tvKjsqwo+BL/R",
      "include_colab_link": true
    },
    "kernelspec": {
      "name": "python3",
      "display_name": "Python 3"
    },
    "language_info": {
      "name": "python"
    }
  },
  "cells": [
    {
      "cell_type": "markdown",
      "metadata": {
        "id": "view-in-github",
        "colab_type": "text"
      },
      "source": [
        "<a href=\"https://colab.research.google.com/github/SinghPrach/BrushUp_Python/blob/main/15Oct.ipynb\" target=\"_parent\"><img src=\"https://colab.research.google.com/assets/colab-badge.svg\" alt=\"Open In Colab\"/></a>"
      ]
    },
    {
      "cell_type": "code",
      "execution_count": 1,
      "metadata": {
        "id": "kDtTCfkrq_OY"
      },
      "outputs": [],
      "source": [
        "import keyword"
      ]
    },
    {
      "cell_type": "code",
      "source": [
        "print(keyword.kwlist)"
      ],
      "metadata": {
        "colab": {
          "base_uri": "https://localhost:8080/"
        },
        "id": "k1X2BwTTyeut",
        "outputId": "b0c84aea-4597-4133-9db2-91a7ebd633da"
      },
      "execution_count": 2,
      "outputs": [
        {
          "output_type": "stream",
          "name": "stdout",
          "text": [
            "['False', 'None', 'True', 'and', 'as', 'assert', 'async', 'await', 'break', 'class', 'continue', 'def', 'del', 'elif', 'else', 'except', 'finally', 'for', 'from', 'global', 'if', 'import', 'in', 'is', 'lambda', 'nonlocal', 'not', 'or', 'pass', 'raise', 'return', 'try', 'while', 'with', 'yield']\n"
          ]
        }
      ]
    },
    {
      "cell_type": "markdown",
      "source": [
        "Taking input from User"
      ],
      "metadata": {
        "id": "EA_fJlSY6Ha0"
      }
    },
    {
      "cell_type": "code",
      "source": [
        "x,y = input(\"Enter any two values: \").split()"
      ],
      "metadata": {
        "colab": {
          "base_uri": "https://localhost:8080/"
        },
        "id": "PaimF3MgykyC",
        "outputId": "b50c015d-de2d-4cc5-a623-b15259a0275a"
      },
      "execution_count": 3,
      "outputs": [
        {
          "name": "stdout",
          "output_type": "stream",
          "text": [
            "Enter any two values: 12 23\n"
          ]
        }
      ]
    },
    {
      "cell_type": "code",
      "source": [
        "print(\"Value of x is: \",x)"
      ],
      "metadata": {
        "colab": {
          "base_uri": "https://localhost:8080/"
        },
        "id": "-0ZckxMp5z57",
        "outputId": "53beb501-e2a5-47da-eb73-3e5c6c89d7ef"
      },
      "execution_count": 5,
      "outputs": [
        {
          "output_type": "stream",
          "name": "stdout",
          "text": [
            "Value of x is:  12\n"
          ]
        }
      ]
    },
    {
      "cell_type": "code",
      "source": [
        "print(\"Value of y is: \",y)"
      ],
      "metadata": {
        "colab": {
          "base_uri": "https://localhost:8080/"
        },
        "id": "sms2RBCl6ALK",
        "outputId": "77f5a769-8c9e-4981-e427-60b046f51852"
      },
      "execution_count": 6,
      "outputs": [
        {
          "output_type": "stream",
          "name": "stdout",
          "text": [
            "Value of y is:  23\n"
          ]
        }
      ]
    },
    {
      "cell_type": "code",
      "source": [
        "print(\"First number is {} and second number is {}\".format(x, y))"
      ],
      "metadata": {
        "colab": {
          "base_uri": "https://localhost:8080/"
        },
        "id": "d25754Mc6Fsd",
        "outputId": "13b5bda8-e31c-4209-b522-da44a3ba9908"
      },
      "execution_count": 7,
      "outputs": [
        {
          "output_type": "stream",
          "name": "stdout",
          "text": [
            "First number is 12 and second number is 23\n"
          ]
        }
      ]
    },
    {
      "cell_type": "code",
      "source": [
        "# type casting using list() function"
      ],
      "metadata": {
        "id": "wtBykwLC6Xak"
      },
      "execution_count": 8,
      "outputs": []
    },
    {
      "cell_type": "code",
      "source": [
        "z = list(map(int, input(\"Enter multiple values: \").split()))"
      ],
      "metadata": {
        "colab": {
          "base_uri": "https://localhost:8080/"
        },
        "id": "17oImBOK6fAc",
        "outputId": "4992789c-5fec-4a01-9b22-b89c8a1ceb35"
      },
      "execution_count": 9,
      "outputs": [
        {
          "name": "stdout",
          "output_type": "stream",
          "text": [
            "Enter multiple values: 2 3 45 100 34\n"
          ]
        }
      ]
    },
    {
      "cell_type": "code",
      "source": [
        "print(\"List of multiple values: \", z)"
      ],
      "metadata": {
        "colab": {
          "base_uri": "https://localhost:8080/"
        },
        "id": "ipznePxq6j00",
        "outputId": "3567f3d8-7fbd-4bf5-88e7-fc8bf9f00146"
      },
      "execution_count": 10,
      "outputs": [
        {
          "output_type": "stream",
          "name": "stdout",
          "text": [
            "List of multiple values:  [2, 3, 45, 100, 34]\n"
          ]
        }
      ]
    },
    {
      "cell_type": "code",
      "source": [
        "# z.dtype()\n",
        "# List can contain multiple data types. That is why, dtype() function is throwing an error here.\n",
        "# z.type()"
      ],
      "metadata": {
        "id": "hKovI8Rb6tyY"
      },
      "execution_count": 26,
      "outputs": []
    },
    {
      "cell_type": "code",
      "source": [
        "# Using List comprehension method"
      ],
      "metadata": {
        "id": "j5cMyn947edf"
      },
      "execution_count": null,
      "outputs": []
    },
    {
      "cell_type": "code",
      "source": [
        "# taking two input at a time\n",
        "a, b = [int(x) for x in input(\"Enter two values: \").split()]\n",
        "print(\"First Number is: \", a)\n",
        "print(\"Second Number is: \", b)"
      ],
      "metadata": {
        "colab": {
          "base_uri": "https://localhost:8080/"
        },
        "id": "g9pt5gw76vmG",
        "outputId": "8ffdd31c-f5b0-4d9d-d714-f8d2f8f0abf3"
      },
      "execution_count": 14,
      "outputs": [
        {
          "output_type": "stream",
          "name": "stdout",
          "text": [
            "Enter two values: 2 3\n",
            "First Number is:  2\n",
            "Second Number is:  3\n"
          ]
        }
      ]
    },
    {
      "cell_type": "code",
      "source": [
        "# taking multiple inputs at a time separated by comma\n",
        "c = [int(x) for x in input(\"Enter multiple value: \").split(\",\")]"
      ],
      "metadata": {
        "colab": {
          "base_uri": "https://localhost:8080/"
        },
        "id": "29G-IW1D7bsr",
        "outputId": "5780c588-34c0-4339-cb51-bdf43ceb83ab"
      },
      "execution_count": 15,
      "outputs": [
        {
          "name": "stdout",
          "output_type": "stream",
          "text": [
            "Enter multiple value: 23,99\n"
          ]
        }
      ]
    },
    {
      "cell_type": "code",
      "source": [
        "print(\"Number of list is: \", c)"
      ],
      "metadata": {
        "colab": {
          "base_uri": "https://localhost:8080/"
        },
        "id": "jF3vPscB7sxu",
        "outputId": "f0ada784-3782-42ca-ad7a-ea27e550e9e2"
      },
      "execution_count": 16,
      "outputs": [
        {
          "output_type": "stream",
          "name": "stdout",
          "text": [
            "Number of list is:  [23, 99]\n"
          ]
        }
      ]
    },
    {
      "cell_type": "code",
      "source": [
        "# Understanding end parameter in print\n",
        "print(\"Prachi\")\n",
        "print(\"Singh\")\n",
        "print(\"Prachi\", end='-')\n",
        "print(\"Singh\")\n",
        "print(\"Prachi\", end=' ')\n",
        "print(\"Singh\")\n",
        "print(\"Prachi\", end='')\n",
        "print(\"Singh\")"
      ],
      "metadata": {
        "colab": {
          "base_uri": "https://localhost:8080/"
        },
        "id": "NWhR7kDw7zZU",
        "outputId": "4e3ad67b-8275-494f-b796-56622d4c4ec0"
      },
      "execution_count": 18,
      "outputs": [
        {
          "output_type": "stream",
          "name": "stdout",
          "text": [
            "Prachi\n",
            "Singh\n",
            "Prachi-Singh\n",
            "Prachi Singh\n",
            "PrachiSingh\n"
          ]
        }
      ]
    },
    {
      "cell_type": "code",
      "source": [
        "# Understanding the sep parameter in print\n",
        "print('G','F','G', sep='')\n",
        "\n",
        "#for formatting a date\n",
        "print('09','12','2016', sep='-')\n",
        "\n",
        "#another example\n",
        "print('Prachi Singh','Starbucks', sep='@')"
      ],
      "metadata": {
        "colab": {
          "base_uri": "https://localhost:8080/"
        },
        "id": "uwsOje3M9S59",
        "outputId": "0e418a74-4bd6-4855-a5a3-b421dca1fac9"
      },
      "execution_count": 20,
      "outputs": [
        {
          "output_type": "stream",
          "name": "stdout",
          "text": [
            "GFG\n",
            "09-12-2016\n",
            "Prachi Singh@Starbucks\n"
          ]
        }
      ]
    },
    {
      "cell_type": "code",
      "source": [
        "# Output Formatting\n",
        "# Using string modulo operator(%)\n",
        "\n",
        "print(\"IntegerCheck1 : %2d, FloatCheck1 : %5.2f\" % (1, 05.333))\n",
        "\n",
        "print(\"IntegerCheck2 : %3d, IntegerCheck3 : %2d\" % (240, 120))\n",
        "\n",
        "print(\"OctalCheck1 : %7.3o\" % (25))   # print octal value\n",
        "\n",
        "print(\"ExponentialCheck1 : %10.3E\" % (356.08977))   # print exponential value"
      ],
      "metadata": {
        "colab": {
          "base_uri": "https://localhost:8080/"
        },
        "id": "0RQHpIZH9r-C",
        "outputId": "e73e2c99-c2fd-457d-ec45-6cd00beed629"
      },
      "execution_count": 21,
      "outputs": [
        {
          "output_type": "stream",
          "name": "stdout",
          "text": [
            "IntegerCheck1 :  1, FloatCheck1 :  5.33\n",
            "IntegerCheck2 : 240, IntegerCheck3 : 120\n",
            "OctalCheck1 :     031\n",
            "ExponentialCheck1 :  3.561E+02\n"
          ]
        }
      ]
    },
    {
      "cell_type": "code",
      "source": [
        "# Using the format method\n",
        "print('I love {} for \"{}!\"'.format('BTS', 'life'))\n",
        "\n",
        "print('{0} and {1}'.format('Kim', 'Tae'))\n",
        "\n",
        "print('{1} and {0}'.format('Kim', 'Tae'))"
      ],
      "metadata": {
        "colab": {
          "base_uri": "https://localhost:8080/"
        },
        "id": "XrxQcUI2_SnD",
        "outputId": "469b31da-9927-491b-d07c-29f284e08daa"
      },
      "execution_count": 22,
      "outputs": [
        {
          "output_type": "stream",
          "name": "stdout",
          "text": [
            "I love BTS for \"life!\"\n",
            "Kim and Tae\n",
            "Tae and Kim\n"
          ]
        }
      ]
    },
    {
      "cell_type": "code",
      "source": [
        "print(all([]))"
      ],
      "metadata": {
        "colab": {
          "base_uri": "https://localhost:8080/"
        },
        "id": "PdNtubXf_149",
        "outputId": "f364eff7-fe1d-44d5-d7d1-3cd634996af0"
      },
      "execution_count": 23,
      "outputs": [
        {
          "output_type": "stream",
          "name": "stdout",
          "text": [
            "True\n"
          ]
        }
      ]
    }
  ]
}