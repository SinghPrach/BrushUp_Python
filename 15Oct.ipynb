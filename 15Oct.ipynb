{
  "nbformat": 4,
  "nbformat_minor": 0,
  "metadata": {
    "colab": {
      "provenance": [],
      "authorship_tag": "ABX9TyON6ypK+5iJjVCu/Um5uIts",
      "include_colab_link": true
    },
    "kernelspec": {
      "name": "python3",
      "display_name": "Python 3"
    },
    "language_info": {
      "name": "python"
    }
  },
  "cells": [
    {
      "cell_type": "markdown",
      "metadata": {
        "id": "view-in-github",
        "colab_type": "text"
      },
      "source": [
        "<a href=\"https://colab.research.google.com/github/SinghPrach/BrushUp_Python/blob/main/15Oct.ipynb\" target=\"_parent\"><img src=\"https://colab.research.google.com/assets/colab-badge.svg\" alt=\"Open In Colab\"/></a>"
      ]
    },
    {
      "cell_type": "markdown",
      "source": [
        "Strings"
      ],
      "metadata": {
        "id": "WHoE96GKswSw"
      }
    },
    {
      "cell_type": "code",
      "execution_count": null,
      "metadata": {
        "id": "FpdROZZO-ryT"
      },
      "outputs": [],
      "source": [
        "# String Manipulations\n",
        "string1 = 'Hello World!'\n",
        "string2 = \"My name is Prachi Singh\"\n",
        "string3 = ''' Nice to meet you.'''"
      ]
    },
    {
      "cell_type": "code",
      "source": [
        "print(string1[0])\n",
        "print(string2[0])\n",
        "print(string3[0])\n",
        "print(string1[-1])"
      ],
      "metadata": {
        "colab": {
          "base_uri": "https://localhost:8080/"
        },
        "id": "kn_qWnhpAV4_",
        "outputId": "9f45c3b1-20f0-46e1-fc73-ce3c6f3618c8"
      },
      "execution_count": null,
      "outputs": [
        {
          "output_type": "stream",
          "name": "stdout",
          "text": [
            "H\n",
            "M\n",
            " \n",
            "!\n"
          ]
        }
      ]
    },
    {
      "cell_type": "code",
      "source": [
        "# String slicing\n",
        "print(string1[3:8])\n",
        "print(string2[4:-3])"
      ],
      "metadata": {
        "colab": {
          "base_uri": "https://localhost:8080/"
        },
        "id": "0qhYn_KxAhLF",
        "outputId": "fa24002c-f233-47bb-e631-6ecb611cf642"
      },
      "execution_count": null,
      "outputs": [
        {
          "output_type": "stream",
          "name": "stdout",
          "text": [
            "lo Wo\n",
            "ame is Prachi Si\n"
          ]
        }
      ]
    },
    {
      "cell_type": "code",
      "source": [
        "# Reversing a string\n",
        "print(string1[::-1])\n",
        "print(\"\".join(reversed(string3)))"
      ],
      "metadata": {
        "colab": {
          "base_uri": "https://localhost:8080/"
        },
        "id": "169c99qbBZNl",
        "outputId": "230cebc8-e6e8-4131-9c62-d2926e465eb0"
      },
      "execution_count": null,
      "outputs": [
        {
          "output_type": "stream",
          "name": "stdout",
          "text": [
            "!dlroW olleH\n",
            ".uoy teem ot eciN \n"
          ]
        }
      ]
    },
    {
      "cell_type": "code",
      "source": [
        "# string1[2]=\"k\"\n",
        "# Updating or deleting any element in a string is not possible because string is immutable. But it can be done using list method and string slicing method.\n",
        "string4 = \"Check\"\n",
        "list1 = list(string4)\n",
        "list1[2] = 'i'\n",
        "string4 = ''.join(list1)\n",
        "print(string4)\n",
        "string5 = string4[0:2] + 'e' + string4[3:]\n",
        "print(string5)"
      ],
      "metadata": {
        "colab": {
          "base_uri": "https://localhost:8080/"
        },
        "id": "5cphJrPuDAvT",
        "outputId": "22f784f7-a97e-4859-8dd9-14ea0149fec2"
      },
      "execution_count": null,
      "outputs": [
        {
          "output_type": "stream",
          "name": "stdout",
          "text": [
            "Chick\n",
            "Check\n"
          ]
        }
      ]
    },
    {
      "cell_type": "code",
      "source": [
        "# del string5\n",
        "# print(string5)"
      ],
      "metadata": {
        "id": "QEVfHDuiDVfK"
      },
      "execution_count": null,
      "outputs": []
    },
    {
      "cell_type": "code",
      "source": [
        "string6 = \"I'm fine.\"\n",
        "string7 = '''That was \"good\"'''\n",
        "string8 = \"I agree 100 percent\"\n",
        "print(string6)\n",
        "print(string7)"
      ],
      "metadata": {
        "colab": {
          "base_uri": "https://localhost:8080/"
        },
        "id": "ctnCmPfuF4gD",
        "outputId": "7f8f6827-c5ee-4739-a924-58cdddc0941f"
      },
      "execution_count": null,
      "outputs": [
        {
          "output_type": "stream",
          "name": "stdout",
          "text": [
            "I'm fine.\n",
            "That was \"good\"\n"
          ]
        }
      ]
    },
    {
      "cell_type": "code",
      "source": [
        "import string\n",
        "string7.endswith(\"d\")"
      ],
      "metadata": {
        "colab": {
          "base_uri": "https://localhost:8080/"
        },
        "id": "kPSYXq9RGomB",
        "outputId": "bba66241-9934-492a-89d5-b0ec14b1acb0"
      },
      "execution_count": null,
      "outputs": [
        {
          "output_type": "execute_result",
          "data": {
            "text/plain": [
              "False"
            ]
          },
          "metadata": {},
          "execution_count": 22
        }
      ]
    },
    {
      "cell_type": "code",
      "source": [
        "# Check if the string has digits\n",
        "def check_string(string_value):\n",
        "  for character in string_value:\n",
        "    if character not in string.digits:\n",
        "      return False\n",
        "  return True\n",
        "check1 = \"Abcd123\"\n",
        "check2 = \"23456\"\n",
        "print(\"First Check: \",check_string(check1))\n",
        "print(\"Second Check: \",check_string(check2))"
      ],
      "metadata": {
        "colab": {
          "base_uri": "https://localhost:8080/"
        },
        "id": "QJrFY3OHHbB_",
        "outputId": "e37f6caa-f1b1-4d5b-80ad-3470eee71a6a"
      },
      "execution_count": null,
      "outputs": [
        {
          "output_type": "stream",
          "name": "stdout",
          "text": [
            "First Check:  False\n",
            "Second Check:  True\n"
          ]
        }
      ]
    },
    {
      "cell_type": "code",
      "source": [
        "print(check1.isdigit()) #Check if all characters are digits\n",
        "print(check2.isalpha()) #Check if all characters are alphabets\n",
        "print(check1.swapcase()) #Converts lowercase to uppercase and vice-versa\n",
        "print(len(check2)) #Returns length of a string\n"
      ],
      "metadata": {
        "colab": {
          "base_uri": "https://localhost:8080/"
        },
        "id": "2nRPLiyqJMfu",
        "outputId": "21511d1c-105d-4c9f-ac58-b2e351dcd97b"
      },
      "execution_count": null,
      "outputs": [
        {
          "output_type": "stream",
          "name": "stdout",
          "text": [
            "False\n",
            "False\n",
            "aBCD123\n",
            "5\n"
          ]
        }
      ]
    },
    {
      "cell_type": "code",
      "source": [
        "#String slicing\n",
        "print(string1[slice(3)])\n",
        "print(string1[slice(1,3,2)])\n",
        "print(string1[slice(-1,-6,-2)])\n",
        "print(string1[slice(1,3)])"
      ],
      "metadata": {
        "colab": {
          "base_uri": "https://localhost:8080/"
        },
        "id": "ipAygoQUJsXi",
        "outputId": "705bba8f-3fb2-4567-df20-0f720e7aa6a8"
      },
      "execution_count": null,
      "outputs": [
        {
          "output_type": "stream",
          "name": "stdout",
          "text": [
            "Hel\n",
            "e\n",
            "!lo\n",
            "el\n"
          ]
        }
      ]
    },
    {
      "cell_type": "code",
      "source": [
        "#Using list/array slicing\n",
        "print(string8[:])\n",
        "print(string8[3:7])\n",
        "print(string8[3:])\n",
        "print(string8[:7])\n",
        "print(string8[1:7:2])"
      ],
      "metadata": {
        "colab": {
          "base_uri": "https://localhost:8080/"
        },
        "id": "OJseQQ5PLpga",
        "outputId": "78a3d930-8d88-464b-d6e2-cffe2b3ad2b4"
      },
      "execution_count": null,
      "outputs": [
        {
          "output_type": "stream",
          "name": "stdout",
          "text": [
            "I agree 100 percent\n",
            "gree\n",
            "gree 100 percent\n",
            "I agree\n",
            " ge\n"
          ]
        }
      ]
    },
    {
      "cell_type": "code",
      "source": [
        "string9 = \"I\\nLove\\tIndia\"\n",
        "string10 = r\"I\\nLove\\tIndia\"\n",
        "string11 = R\"I\\nLove\\tIndia\"\n",
        "print(string9)\n",
        "print(repr(string9))\n",
        "print(string10)\n",
        "print(string11)"
      ],
      "metadata": {
        "colab": {
          "base_uri": "https://localhost:8080/"
        },
        "id": "ShOPYERCMlaT",
        "outputId": "14999502-6e58-477c-99a4-1f2e7551ee04"
      },
      "execution_count": null,
      "outputs": [
        {
          "output_type": "stream",
          "name": "stdout",
          "text": [
            "I\n",
            "Love\tIndia\n",
            "'I\\nLove\\tIndia'\n",
            "I\\nLove\\tIndia\n",
            "I\\nLove\\tIndia\n"
          ]
        }
      ]
    },
    {
      "cell_type": "code",
      "source": [
        "#Python Regex\n",
        "import re"
      ],
      "metadata": {
        "id": "61ZeIgVQN1W6"
      },
      "execution_count": null,
      "outputs": []
    },
    {
      "cell_type": "code",
      "source": [
        "string12 = \"I Am among very good top 10 students\"\n",
        "match = re.search(r'Am ', string12)\n",
        "\n",
        "print('Start Index:', match.start())\n",
        "print('End Index:', match.end())"
      ],
      "metadata": {
        "colab": {
          "base_uri": "https://localhost:8080/"
        },
        "id": "0UeAqzFjR7W0",
        "outputId": "1bb9b22e-bd8d-4ad7-930e-bb35f26ff5a3"
      },
      "execution_count": null,
      "outputs": [
        {
          "output_type": "stream",
          "name": "stdout",
          "text": [
            "Start Index: 2\n",
            "End Index: 5\n"
          ]
        }
      ]
    },
    {
      "cell_type": "code",
      "source": [
        "pattern = \"[a-m]\"\n",
        "regex_startswith1 = r'^I'\n",
        "regex_startswith2 = r'^The'\n",
        "print(re.findall(pattern, string12))\n",
        "print(re.match(regex_startswith1,string12))\n",
        "print(re.match(regex_startswith2,string12))"
      ],
      "metadata": {
        "colab": {
          "base_uri": "https://localhost:8080/"
        },
        "id": "8M07n-eFSSav",
        "outputId": "823cefef-f599-4b02-f736-56e5f04a89c9"
      },
      "execution_count": null,
      "outputs": [
        {
          "output_type": "stream",
          "name": "stdout",
          "text": [
            "['m', 'a', 'm', 'g', 'e', 'g', 'd', 'd', 'e']\n",
            "<re.Match object; span=(0, 1), match='I'>\n",
            "None\n"
          ]
        }
      ]
    },
    {
      "cell_type": "markdown",
      "source": [
        "Lists"
      ],
      "metadata": {
        "id": "ziRDFlwqstLi"
      }
    },
    {
      "cell_type": "code",
      "source": [
        "list1 = [1,2,3,4]\n",
        "list2 = []\n",
        "list3 = [\"Hey\",\"Hi\"]\n",
        "list4 = [\"Hey\",1]\n",
        "print(list1)\n",
        "print(list2)\n",
        "print(list3)\n",
        "print(list4)\n",
        "print(list1[0])"
      ],
      "metadata": {
        "id": "8hzNV-yHTDe7",
        "colab": {
          "base_uri": "https://localhost:8080/"
        },
        "outputId": "2ca1f72f-a803-4771-9576-dab6c6c54555"
      },
      "execution_count": null,
      "outputs": [
        {
          "output_type": "stream",
          "name": "stdout",
          "text": [
            "[1, 2, 3, 4]\n",
            "[]\n",
            "['Hey', 'Hi']\n",
            "['Hey', 1]\n",
            "1\n"
          ]
        }
      ]
    },
    {
      "cell_type": "code",
      "source": [
        "# Multi-dimensional list- Nesting lists inside lists\n",
        "list5 = [['Hey', 'Hi'], ['Prachi']]\n",
        "print(list5)\n",
        "print(list5[0][1])\n",
        "print(list5[1][0])\n",
        "print(list5[0][0])\n",
        "print(list5[-1][-1])\n",
        "print(len(list5))"
      ],
      "metadata": {
        "colab": {
          "base_uri": "https://localhost:8080/"
        },
        "id": "J1j9bUYntDOI",
        "outputId": "b2e52e7b-980c-48a0-b99d-756f62464bed"
      },
      "execution_count": null,
      "outputs": [
        {
          "output_type": "stream",
          "name": "stdout",
          "text": [
            "[['Hey', 'Hi'], ['Prachi']]\n",
            "Hi\n",
            "Prachi\n",
            "Hey\n",
            "Prachi\n",
            "2\n"
          ]
        }
      ]
    },
    {
      "cell_type": "code",
      "source": [
        "input_string = input(\"Enter elements (Space-Separated): \")"
      ],
      "metadata": {
        "colab": {
          "base_uri": "https://localhost:8080/"
        },
        "id": "t_dq2YP5tXGp",
        "outputId": "2e681212-c340-4716-cfb9-e0ded91becc8"
      },
      "execution_count": null,
      "outputs": [
        {
          "name": "stdout",
          "output_type": "stream",
          "text": [
            "Enter elements (Space-Separated): 2 The Sky 27\n"
          ]
        }
      ]
    },
    {
      "cell_type": "code",
      "source": [
        "input_list = input_string.split()\n",
        "print(\"The input list is: \",input_list)"
      ],
      "metadata": {
        "colab": {
          "base_uri": "https://localhost:8080/"
        },
        "id": "J960hLs5vM2S",
        "outputId": "2c1ac47c-00e0-4f78-f5fe-661550c15e51"
      },
      "execution_count": null,
      "outputs": [
        {
          "output_type": "stream",
          "name": "stdout",
          "text": [
            "The input list is:  ['2', 'The', 'Sky', '27']\n"
          ]
        }
      ]
    },
    {
      "cell_type": "code",
      "source": [
        "num = int(input(\"Enter the size of list : \"))"
      ],
      "metadata": {
        "colab": {
          "base_uri": "https://localhost:8080/"
        },
        "id": "23ZJuLVcveFu",
        "outputId": "3a5c8321-3e59-45f8-c779-4c34ce8e7ba5"
      },
      "execution_count": null,
      "outputs": [
        {
          "name": "stdout",
          "output_type": "stream",
          "text": [
            "Enter the size of list : 4\n"
          ]
        }
      ]
    },
    {
      "cell_type": "code",
      "source": [
        "list6 = list(map(int, input(\"Enter the integer\\\n",
        "elements:\").strip().split()))[:num]"
      ],
      "metadata": {
        "colab": {
          "base_uri": "https://localhost:8080/"
        },
        "id": "_z-WJLxAwDLM",
        "outputId": "f0b5c258-f554-42bc-e7b9-95441ed376ba"
      },
      "execution_count": null,
      "outputs": [
        {
          "name": "stdout",
          "output_type": "stream",
          "text": [
            "Enter the integerelements:2 34 56\n"
          ]
        }
      ]
    },
    {
      "cell_type": "code",
      "source": [
        "print('The list is:', list6)"
      ],
      "metadata": {
        "colab": {
          "base_uri": "https://localhost:8080/"
        },
        "id": "uVP92Dq-wn7v",
        "outputId": "63bdee57-ee92-4d7f-ca79-0c37f9133477"
      },
      "execution_count": null,
      "outputs": [
        {
          "output_type": "stream",
          "name": "stdout",
          "text": [
            "The list is: [2, 34, 56]\n"
          ]
        }
      ]
    },
    {
      "cell_type": "code",
      "source": [
        "# Adding elements to a list\n",
        "list_add = []\n",
        "print(\"Initial blank List: \")\n",
        "print(list_add)\n",
        "list_add.append(1)\n",
        "list_add.append(2)\n",
        "list_add.append(\"Hey\")\n",
        "print(\"\\nAfter Adding Three elements to the list: \")\n",
        "print(list_add)"
      ],
      "metadata": {
        "colab": {
          "base_uri": "https://localhost:8080/"
        },
        "id": "BKljw043w553",
        "outputId": "14f90530-f1dd-4b50-b755-f0ca4e9dc28e"
      },
      "execution_count": null,
      "outputs": [
        {
          "output_type": "stream",
          "name": "stdout",
          "text": [
            "Initial blank List: \n",
            "[]\n",
            "\n",
            "After Adding Three elements to the list: \n",
            "[1, 2, 'Hey']\n"
          ]
        }
      ]
    },
    {
      "cell_type": "code",
      "source": [
        "#Appending using iterator\n",
        "for i in range(1, 4):\n",
        "    list_add.append(i)\n",
        "print(\"\\nList after Addition of elements from 1-3: \")\n",
        "print(list_add)"
      ],
      "metadata": {
        "colab": {
          "base_uri": "https://localhost:8080/"
        },
        "id": "WzgiF4OfRlSb",
        "outputId": "2c13ebb5-9d11-4284-a92b-5d5701fbb372"
      },
      "execution_count": null,
      "outputs": [
        {
          "output_type": "stream",
          "name": "stdout",
          "text": [
            "\n",
            "List after Addition of elements from 1-3: \n",
            "[1, 2, 'Hey', 1, 2, 3]\n"
          ]
        }
      ]
    },
    {
      "cell_type": "code",
      "source": [
        "# Adding Tuples to the List\n",
        "list_add.append((5, 6))\n",
        "print(\"\\nList after Addition of a Tuple: \")\n",
        "print(list_add)"
      ],
      "metadata": {
        "colab": {
          "base_uri": "https://localhost:8080/"
        },
        "id": "z8oPWTU1RyFV",
        "outputId": "9d2c897f-c696-4306-c52e-b2301dd1e581"
      },
      "execution_count": null,
      "outputs": [
        {
          "output_type": "stream",
          "name": "stdout",
          "text": [
            "\n",
            "List after Addition of a Tuple: \n",
            "[1, 2, 'Hey', 1, 2, 3, (5, 6)]\n"
          ]
        }
      ]
    },
    {
      "cell_type": "code",
      "source": [
        "# Adding List to a List\n",
        "List2 = ['Hey', 'Bro']\n",
        "list_add.append(List2)\n",
        "print(\"List after Addition of a List: \")\n",
        "print(list_add)"
      ],
      "metadata": {
        "colab": {
          "base_uri": "https://localhost:8080/"
        },
        "id": "4kpoZ2J1R5UE",
        "outputId": "bf90c53b-55e3-44e7-a568-aa11fd03e522"
      },
      "execution_count": null,
      "outputs": [
        {
          "output_type": "stream",
          "name": "stdout",
          "text": [
            "List after Addition of a List: \n",
            "[1, 2, 'Hey', 1, 2, 3, (5, 6), ['Hey', 'Bro']]\n"
          ]
        }
      ]
    },
    {
      "cell_type": "code",
      "source": [
        "# Insert operation\n",
        "list_add.insert(3, 12)\n",
        "list_add.insert(0, 'Yayy')\n",
        "print(\"\\nList after performing Insert Operation: \")\n",
        "print(list_add)"
      ],
      "metadata": {
        "colab": {
          "base_uri": "https://localhost:8080/"
        },
        "id": "kcKzNaXLSCXY",
        "outputId": "f48cd4b7-fcf8-4902-8dcf-5e8a170ddd9f"
      },
      "execution_count": null,
      "outputs": [
        {
          "output_type": "stream",
          "name": "stdout",
          "text": [
            "\n",
            "List after performing Insert Operation: \n",
            "['Yayy', 1, 2, 'Hey', 12, 1, 2, 3, (5, 6), ['Hey', 'Bro']]\n"
          ]
        }
      ]
    },
    {
      "cell_type": "code",
      "source": [
        "# Extend operation\n",
        "list_add.extend([8, 'Brb', 'Always'])\n",
        "print(\"List after performing Extend Operation: \")\n",
        "print(list_add)"
      ],
      "metadata": {
        "colab": {
          "base_uri": "https://localhost:8080/"
        },
        "id": "_s2MAryyUQFM",
        "outputId": "8c665cca-eb72-4895-e341-a011db0a2c9e"
      },
      "execution_count": null,
      "outputs": [
        {
          "output_type": "stream",
          "name": "stdout",
          "text": [
            "List after performing Extend Operation: \n",
            "['Yayy', 1, 2, 'Hey', 12, 1, 2, 3, (5, 6), ['Hey', 'Bro'], 8, 'Brb', 'Always']\n"
          ]
        }
      ]
    },
    {
      "cell_type": "code",
      "source": [
        "list_add.reverse()\n",
        "print(list_add)"
      ],
      "metadata": {
        "colab": {
          "base_uri": "https://localhost:8080/"
        },
        "id": "5ruKZSMfU2_N",
        "outputId": "ad566402-91a6-440e-97ad-4ba2ad5fa9de"
      },
      "execution_count": null,
      "outputs": [
        {
          "output_type": "stream",
          "name": "stdout",
          "text": [
            "['Always', 'Brb', 8, ['Hey', 'Bro'], (5, 6), 3, 2, 1, 12, 'Hey', 2, 1, 'Yayy']\n"
          ]
        }
      ]
    },
    {
      "cell_type": "code",
      "source": [
        "list_reverse = list(reversed(list_add))\n",
        "print(list_reverse)"
      ],
      "metadata": {
        "colab": {
          "base_uri": "https://localhost:8080/"
        },
        "id": "TzgyvcDQVYF2",
        "outputId": "81a036c6-ff4e-43a6-a00c-3e82fd8b51b1"
      },
      "execution_count": null,
      "outputs": [
        {
          "output_type": "stream",
          "name": "stdout",
          "text": [
            "['Yayy', 1, 2, 'Hey', 12, 1, 2, 3, (5, 6), ['Hey', 'Bro'], 8, 'Brb', 'Always']\n"
          ]
        }
      ]
    },
    {
      "cell_type": "code",
      "source": [
        "list_reverse.remove(8)\n",
        "list_reverse.remove('Brb')\n",
        "print(\"List after Removal of elements: \")\n",
        "print(list_reverse)"
      ],
      "metadata": {
        "colab": {
          "base_uri": "https://localhost:8080/"
        },
        "id": "WOyqJezIVtua",
        "outputId": "431d42ac-cd87-4cd0-fff9-a7a2c061ee78"
      },
      "execution_count": null,
      "outputs": [
        {
          "output_type": "stream",
          "name": "stdout",
          "text": [
            "List after Removal of elements: \n",
            "['Yayy', 1, 2, 'Hey', 12, 1, 2, 3, (5, 6), ['Hey', 'Bro'], 'Always']\n"
          ]
        }
      ]
    },
    {
      "cell_type": "code",
      "source": [
        "list_reverse.pop(3)\n",
        "print(\"List after popping a specific element: \")\n",
        "print(list_reverse)"
      ],
      "metadata": {
        "colab": {
          "base_uri": "https://localhost:8080/"
        },
        "id": "HjqgV8xncMcN",
        "outputId": "9edbeccb-cc3a-40ad-df7b-5091a26b7bed"
      },
      "execution_count": null,
      "outputs": [
        {
          "output_type": "stream",
          "name": "stdout",
          "text": [
            "List after popping a specific element: \n",
            "['Yayy', 1, 2, 12, 1, 2, 3, (5, 6), ['Hey', 'Bro'], 'Always']\n"
          ]
        }
      ]
    },
    {
      "cell_type": "code",
      "source": [
        "list_reverse.pop(-3)\n",
        "print(\"List after popping a specific element: \")\n",
        "print(list_reverse)"
      ],
      "metadata": {
        "colab": {
          "base_uri": "https://localhost:8080/"
        },
        "id": "5l4sm4A1dA0l",
        "outputId": "d35f5b1c-ce96-478a-b2f1-c83f8becc38f"
      },
      "execution_count": null,
      "outputs": [
        {
          "output_type": "stream",
          "name": "stdout",
          "text": [
            "List after popping a specific element: \n",
            "['Yayy', 1, 2, 12, 1, 2, 3, ['Hey', 'Bro'], 'Always']\n"
          ]
        }
      ]
    },
    {
      "cell_type": "code",
      "source": [
        "odd_cubes = [x ** 3 for x in range(1, 11) if x % 2 == 1]\n",
        "print(odd_cubes)"
      ],
      "metadata": {
        "colab": {
          "base_uri": "https://localhost:8080/"
        },
        "id": "A6XtUaX2dE97",
        "outputId": "40982dc1-7c4e-403a-9759-c8356a34167e"
      },
      "execution_count": null,
      "outputs": [
        {
          "output_type": "stream",
          "name": "stdout",
          "text": [
            "[1, 27, 125, 343, 729]\n"
          ]
        }
      ]
    },
    {
      "cell_type": "code",
      "source": [
        "odd_copy = odd_cubes.copy()\n",
        "print(odd_copy)"
      ],
      "metadata": {
        "colab": {
          "base_uri": "https://localhost:8080/"
        },
        "id": "10zzfv-meYXP",
        "outputId": "541fb004-aa97-4dd4-c629-2a8944c7ab57"
      },
      "execution_count": null,
      "outputs": [
        {
          "output_type": "stream",
          "name": "stdout",
          "text": [
            "[1, 27, 125, 343, 729]\n"
          ]
        }
      ]
    },
    {
      "cell_type": "code",
      "source": [
        "import numpy as np\n",
        "# Accessing index and value in a list\n",
        "# Naive Approach\n",
        "test_list = [21,88,90,100]\n",
        "print(\"Original list \\n\")\n",
        "print(test_list)\n",
        "print(str(test_list))\n",
        "print(\"The index-value pair is: \")\n",
        "for i in range(len(test_list)):\n",
        "  print(i,end=\" \")\n",
        "  print(test_list[i])\n",
        "print(\"The index-value pair, as per list comprehension is:\")\n",
        "print([list((i, test_list[i])) for i in range(len(test_list))])\n",
        "# Using enumerate function\n",
        "print(\"Using enumerate function\")\n",
        "for index, value in enumerate(test_list):\n",
        "    print(index, value)\n",
        "# Using zip\n",
        "print(\"Using Zip\")\n",
        "for index, value in zip(range(len(test_list)), test_list):\n",
        "    print(index, value)\n",
        "# Using Numpy\n",
        "print(\"Using Numpy\")\n",
        "for index, value in np.ndenumerate(test_list):\n",
        "    print(index[0], value)"
      ],
      "metadata": {
        "id": "l_g6xLI_ekKM",
        "colab": {
          "base_uri": "https://localhost:8080/"
        },
        "outputId": "86e742ee-ba6c-4d1c-e73b-6e3ea69c74a9"
      },
      "execution_count": 10,
      "outputs": [
        {
          "output_type": "stream",
          "name": "stdout",
          "text": [
            "Original list \n",
            "\n",
            "[21, 88, 90, 100]\n",
            "[21, 88, 90, 100]\n",
            "The index-value pair is: \n",
            "0 21\n",
            "1 88\n",
            "2 90\n",
            "3 100\n",
            "The index-value pair, as per list comprehension is:\n",
            "[[0, 21], [1, 88], [2, 90], [3, 100]]\n",
            "Using enumerate function\n",
            "0 21\n",
            "1 88\n",
            "2 90\n",
            "3 100\n",
            "Using Zip\n",
            "0 21\n",
            "1 88\n",
            "2 90\n",
            "3 100\n",
            "Using Numpy\n",
            "0 21\n",
            "1 88\n",
            "2 90\n",
            "3 100\n"
          ]
        }
      ]
    },
    {
      "cell_type": "code",
      "source": [
        "# Length of a list\n",
        "print(len(test_list))"
      ],
      "metadata": {
        "colab": {
          "base_uri": "https://localhost:8080/"
        },
        "id": "_es4R8YxR7-k",
        "outputId": "dc8450c9-66ac-4228-b8bc-bfe10ee87737"
      },
      "execution_count": 11,
      "outputs": [
        {
          "output_type": "stream",
          "name": "stdout",
          "text": [
            "4\n"
          ]
        }
      ]
    },
    {
      "cell_type": "code",
      "source": [
        "# Taking list as input from user\n",
        "# Using For loop\n",
        "list_1 = []\n",
        "num = int(input(\"Enter the length of list: \"))\n",
        "for i in range(0,num):\n",
        "  add_el = int(input())\n",
        "  list_1.append(add_el)\n",
        "print(list_1)"
      ],
      "metadata": {
        "colab": {
          "base_uri": "https://localhost:8080/"
        },
        "id": "lAB-vQDeTxKq",
        "outputId": "229287dd-3955-4aa7-ec52-b3702d289245"
      },
      "execution_count": 12,
      "outputs": [
        {
          "output_type": "stream",
          "name": "stdout",
          "text": [
            "Enter the length of list: 3\n",
            "23\n",
            "3\n",
            "9\n",
            "[23, 3, 9]\n"
          ]
        }
      ]
    },
    {
      "cell_type": "code",
      "source": [
        "# Using exception handling\n",
        "try:\n",
        "    my_list = []\n",
        "\n",
        "    while True:\n",
        "        my_list.append(int(input()))\n",
        "\n",
        "# if the input is not-integer, print the list\n",
        "except:\n",
        "    print(my_list)"
      ],
      "metadata": {
        "colab": {
          "base_uri": "https://localhost:8080/"
        },
        "id": "5icnQ_maU0h2",
        "outputId": "3286b861-8fd3-44a4-b33d-2bb28fe2ceb4"
      },
      "execution_count": 15,
      "outputs": [
        {
          "output_type": "stream",
          "name": "stdout",
          "text": [
            "[]\n"
          ]
        }
      ]
    },
    {
      "cell_type": "code",
      "source": [
        "# Using Map function\n",
        "num = int(input(\"Enter number of elements : \"))\n",
        "a = list(map(int, input(\"\\nEnter the numbers : \").strip().split()))[:num]\n",
        "\n",
        "print(\"\\nList is: \", a)"
      ],
      "metadata": {
        "colab": {
          "base_uri": "https://localhost:8080/"
        },
        "id": "6gQeyp7dVPWu",
        "outputId": "ffc0d159-ea94-4aab-986a-26b6a04902a0"
      },
      "execution_count": 18,
      "outputs": [
        {
          "output_type": "stream",
          "name": "stdout",
          "text": [
            "Enter number of elements : 3\n",
            "\n",
            "Enter the numbers : 23 4 66\n",
            "\n",
            "List is -  [23, 4, 66]\n"
          ]
        }
      ]
    },
    {
      "cell_type": "code",
      "source": [
        "# Get list of lists as input\n",
        "list_lists = []\n",
        "num = int(input(\"Enter number of elements : \"))\n",
        "\n",
        "for i in range(0, num):\n",
        "    new_ele = [input(), int(input())]\n",
        "    list_lists.append(new_ele)\n",
        "\n",
        "print(list_lists)"
      ],
      "metadata": {
        "colab": {
          "base_uri": "https://localhost:8080/"
        },
        "id": "-7k4gwxBVnbd",
        "outputId": "e2c25be2-4130-42a7-d0fa-58f693c24a93"
      },
      "execution_count": 19,
      "outputs": [
        {
          "output_type": "stream",
          "name": "stdout",
          "text": [
            "Enter number of elements : 4\n",
            "23\n",
            "32\n",
            "22\n",
            "33\n",
            "45\n",
            "78\n",
            "9\n",
            "10\n",
            "[['23', 32], ['22', 33], ['45', 78], ['9', 10]]\n"
          ]
        }
      ]
    },
    {
      "cell_type": "code",
      "source": [],
      "metadata": {
        "id": "kp4WqVr9WEVI"
      },
      "execution_count": null,
      "outputs": []
    }
  ]
}