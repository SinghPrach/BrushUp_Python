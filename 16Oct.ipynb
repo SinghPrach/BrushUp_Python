{
  "nbformat": 4,
  "nbformat_minor": 0,
  "metadata": {
    "colab": {
      "provenance": [],
      "authorship_tag": "ABX9TyO3/TsMvCGztByXZ6yv9nw0"
    },
    "kernelspec": {
      "name": "python3",
      "display_name": "Python 3"
    },
    "language_info": {
      "name": "python"
    }
  },
  "cells": [
    {
      "cell_type": "markdown",
      "source": [
        "Tuples"
      ],
      "metadata": {
        "id": "psJiexGk6Oha"
      }
    },
    {
      "cell_type": "code",
      "execution_count": 20,
      "metadata": {
        "colab": {
          "base_uri": "https://localhost:8080/"
        },
        "id": "I0Gqdj_95z7b",
        "outputId": "882ed9f3-6130-4f8f-c6e2-e75c9bd2eda1"
      },
      "outputs": [
        {
          "output_type": "stream",
          "name": "stdout",
          "text": [
            "()\n",
            "(2, 5, 4)\n",
            "('hey', 'Baby')\n",
            "(1, 'Hey')\n",
            "(1, 2, 1, 'Hi', 1, 99, 1)\n",
            "('G', 'o')\n",
            "((1, 2, 1, 'Hi', 1, 99, 1), ('G', 'o'), (1, 'Hey'))\n"
          ]
        }
      ],
      "source": [
        "# Creating a tuple\n",
        "tuple1 = ()\n",
        "tuple2 = (2,5,4)\n",
        "tuple3 = (\"hey\",\"Baby\")\n",
        "tuple4 = (1,\"Hey\")\n",
        "list1 = [1,2,1,\"Hi\",1,99,1]\n",
        "tuple5 = tuple(list1)\n",
        "# tuple function takes at most 1 argument\n",
        "tuple6 = tuple(\"Go\")\n",
        "tuple7 = (tuple5,tuple6,tuple4) #Nested tuple\n",
        "tuple8 = tuple(tuple7)\n",
        "print(tuple1)\n",
        "print(tuple2)\n",
        "print(tuple3)\n",
        "print(tuple4)\n",
        "print(tuple5)\n",
        "print(tuple6)\n",
        "print(tuple8)"
      ]
    },
    {
      "cell_type": "code",
      "source": [
        "# Accessing Tuple\n",
        "print(tuple2[1]) #Indexing\n",
        "a,b = tuple4 #Unpacking\n",
        "print(a)\n",
        "print(b)\n",
        "for i in range(0,len(tuple5)): #Looping\n",
        "  print(tuple5[i],end=\" \")"
      ],
      "metadata": {
        "colab": {
          "base_uri": "https://localhost:8080/"
        },
        "id": "EOkS_uju7VDV",
        "outputId": "7fc2a5a2-3d15-43d2-aff3-31b248d244f2"
      },
      "execution_count": 6,
      "outputs": [
        {
          "output_type": "stream",
          "name": "stdout",
          "text": [
            "3\n",
            "1\n",
            "Hey\n",
            "1 2 99 Hi "
          ]
        }
      ]
    },
    {
      "cell_type": "code",
      "source": [
        "# Concatenation\n",
        "tuple9 = tuple2+tuple4+tuple8\n",
        "print(tuple9)"
      ],
      "metadata": {
        "colab": {
          "base_uri": "https://localhost:8080/"
        },
        "id": "0Z8r5gjJ8v7Y",
        "outputId": "2d693a78-1d07-47dc-8de8-1bd6b0f1e8fd"
      },
      "execution_count": 7,
      "outputs": [
        {
          "output_type": "stream",
          "name": "stdout",
          "text": [
            "(2, 3, 4, 1, 'Hey', (1, 2, 99, 'Hi'), ('G', 'o'), (1, 'Hey'))\n"
          ]
        }
      ]
    },
    {
      "cell_type": "code",
      "source": [
        "# Slicing\n",
        "# After removing first element\n",
        "print(tuple5[1:])\n",
        "# After reversing the tuple\n",
        "print(tuple8[::-1])\n",
        "# Printing elements between range 3 and 7\n",
        "print(tuple9[3:7])"
      ],
      "metadata": {
        "colab": {
          "base_uri": "https://localhost:8080/"
        },
        "id": "EaAbRPla97Ab",
        "outputId": "b744889e-78ef-4e95-ace6-1e52c6f06b95"
      },
      "execution_count": 8,
      "outputs": [
        {
          "output_type": "stream",
          "name": "stdout",
          "text": [
            "(2, 99, 'Hi')\n",
            "((1, 'Hey'), ('G', 'o'), (1, 2, 99, 'Hi'))\n",
            "(1, 'Hey', (1, 2, 99, 'Hi'), ('G', 'o'))\n"
          ]
        }
      ]
    },
    {
      "cell_type": "code",
      "source": [
        "# Deleting\n",
        "del tuple1\n",
        "print(tuple1)"
      ],
      "metadata": {
        "colab": {
          "base_uri": "https://localhost:8080/",
          "height": 208
        },
        "id": "Evd7myIl_Joh",
        "outputId": "4b751da1-a144-43da-ab5f-8cd83caf4e50"
      },
      "execution_count": 9,
      "outputs": [
        {
          "output_type": "error",
          "ename": "NameError",
          "evalue": "ignored",
          "traceback": [
            "\u001b[0;31m---------------------------------------------------------------------------\u001b[0m",
            "\u001b[0;31mNameError\u001b[0m                                 Traceback (most recent call last)",
            "\u001b[0;32m<ipython-input-9-bf39d5ea2719>\u001b[0m in \u001b[0;36m<cell line: 3>\u001b[0;34m()\u001b[0m\n\u001b[1;32m      1\u001b[0m \u001b[0;31m# Deleting\u001b[0m\u001b[0;34m\u001b[0m\u001b[0;34m\u001b[0m\u001b[0m\n\u001b[1;32m      2\u001b[0m \u001b[0;32mdel\u001b[0m \u001b[0mtuple1\u001b[0m\u001b[0;34m\u001b[0m\u001b[0;34m\u001b[0m\u001b[0m\n\u001b[0;32m----> 3\u001b[0;31m \u001b[0mprint\u001b[0m\u001b[0;34m(\u001b[0m\u001b[0mtuple1\u001b[0m\u001b[0;34m)\u001b[0m\u001b[0;34m\u001b[0m\u001b[0;34m\u001b[0m\u001b[0m\n\u001b[0m",
            "\u001b[0;31mNameError\u001b[0m: name 'tuple1' is not defined"
          ]
        }
      ]
    },
    {
      "cell_type": "code",
      "source": [
        "tuple3.index(\"Baby\") #index function gives index\n",
        "tuple5.count(1) #count function gives the total count of the particular value in the tuple"
      ],
      "metadata": {
        "colab": {
          "base_uri": "https://localhost:8080/"
        },
        "id": "GX_LylC8_WOO",
        "outputId": "d15a06ec-7e8e-48a0-8659-ad51504bc84d"
      },
      "execution_count": 15,
      "outputs": [
        {
          "output_type": "execute_result",
          "data": {
            "text/plain": [
              "4"
            ]
          },
          "metadata": {},
          "execution_count": 15
        }
      ]
    },
    {
      "cell_type": "code",
      "source": [
        "# Built-in functions\n",
        "print(\"all(): \",all(tuple1))\n",
        "print(\"all(): \",all(tuple2))\n",
        "print(\"any(): \",all(tuple1))\n",
        "print(\"any(): \",all(tuple2))\n",
        "print(\"len(): \",len(tuple5))\n",
        "print(\"enumerate(): \",enumerate(tuple5))\n",
        "# print(\"max(): \",max(tuple5)) max() is not supported between instances of 'str' and 'int'\n",
        "print(\"max(): \",max(tuple2))\n",
        "print(\"min(): \",min(tuple2))\n",
        "print(\"sum(): \",sum(tuple2))\n",
        "print(\"sorted(): \",sorted(tuple2))"
      ],
      "metadata": {
        "colab": {
          "base_uri": "https://localhost:8080/"
        },
        "id": "ZHamT7_R_62a",
        "outputId": "7bde649d-41c7-4630-8d85-bf28253af89d"
      },
      "execution_count": 21,
      "outputs": [
        {
          "output_type": "stream",
          "name": "stdout",
          "text": [
            "all():  True\n",
            "all():  True\n",
            "any():  True\n",
            "any():  True\n",
            "len():  7\n",
            "enumerate():  <enumerate object at 0x7b997c02cf00>\n",
            "max():  5\n",
            "min():  2\n",
            "sum():  11\n",
            "sorted():  [2, 4, 5]\n"
          ]
        }
      ]
    },
    {
      "cell_type": "code",
      "source": [
        "# Create a tuple from list and string\n",
        "test_list = [\"I\", \"love\",\"my\"]\n",
        "test_str = \"life\"\n",
        "# Method 1\n",
        "tuple_li_st1 = tuple(test_list + [test_str])\n",
        "print(tuple_li_st1)\n",
        "# Method 2\n",
        "tuple_li_st2 = (test_str, ) + tuple(test_list)\n",
        "print(tuple_li_st2)\n",
        "# Method 3\n",
        "new_list = test_list.copy()\n",
        "new_list.append(test_str)\n",
        "tuple_li_st3 = tuple(new_list)\n",
        "print(tuple_li_st3)\n",
        "# Method 4\n",
        "tuple_li_st4 = tuple(test_list + [test_str])\n",
        "print(tuple_li_st4)\n",
        "# Method 5\n",
        "test_list.extend([test_str])\n",
        "tuple_li_st5 = tuple(test_list)\n",
        "print(tuple_li_st5)"
      ],
      "metadata": {
        "colab": {
          "base_uri": "https://localhost:8080/"
        },
        "id": "TZ68P6QVBZgW",
        "outputId": "51613062-78e6-4194-b79e-87be0c45e6d8"
      },
      "execution_count": 27,
      "outputs": [
        {
          "output_type": "stream",
          "name": "stdout",
          "text": [
            "('I', 'love', 'my', 'life')\n",
            "('life', 'I', 'love', 'my')\n",
            "('I', 'love', 'my', 'life')\n",
            "('I', 'love', 'my', 'life')\n",
            "('I', 'love', 'my', 'life')\n"
          ]
        }
      ]
    },
    {
      "cell_type": "code",
      "source": [
        "from operator import itemgetter"
      ],
      "metadata": {
        "id": "crE9hUnoKbqE"
      },
      "execution_count": 28,
      "outputs": []
    },
    {
      "cell_type": "code",
      "source": [
        "# Accessing front and rear element\n",
        "test_tup = (1,89,32,66,72)\n",
        "# Method 1\n",
        "res_front_rear1 = (test_tup[0], test_tup[-1])\n",
        "print(res_front_rear1)\n",
        "# Method 2\n",
        "res_front_rear2 = itemgetter(0, -1)(test_tup)\n",
        "print(res_front_rear2)\n",
        "# Method 3\n",
        "res_front_rear3 = (test_tup[0], test_tup[len(test_tup)-1])\n",
        "print(res_front_rear3)\n",
        "# Method 4\n",
        "front, *_, rear = test_tup\n",
        "res_front_rear4 = (front,rear)\n",
        "print(res_front_rear4)\n",
        "# Method 5 Slicing\n",
        "front1 = test_tup[0]\n",
        "rear1 = test_tup[-1]\n",
        "res_front_rear5 = (front1,rear1)\n",
        "print(res_front_rear5)\n",
        "# Method 6\n",
        "front2 = test_tup[0]\n",
        "rear2 = test_tup[-1]\n",
        "res_front_rear6 = tuple([front2]) + tuple([rear2])\n",
        "print(res_front_rear6)\n",
        "# Method 7\n",
        "res_front_rear7 = tuple([test_tup[i] for i in [0,-1]])\n",
        "print(res_front_rear7)"
      ],
      "metadata": {
        "colab": {
          "base_uri": "https://localhost:8080/"
        },
        "id": "RNsRDzY8GSwj",
        "outputId": "2341b610-b126-4abd-ba69-214bf50d32b9"
      },
      "execution_count": 29,
      "outputs": [
        {
          "output_type": "stream",
          "name": "stdout",
          "text": [
            "(1, 72)\n",
            "(1, 72)\n",
            "(1, 72)\n",
            "(1, 72)\n",
            "(1, 72)\n",
            "(1, 72)\n",
            "(1, 72)\n"
          ]
        }
      ]
    },
    {
      "cell_type": "code",
      "source": [
        "import itertools\n",
        "from functools import reduce"
      ],
      "metadata": {
        "id": "kazvwfDQNzIp"
      },
      "execution_count": 31,
      "outputs": []
    },
    {
      "cell_type": "code",
      "source": [
        "# Concatenating tuples\n",
        "test_tup1 = (1, 31, 5)\n",
        "test_tup2 = (4, 6)\n",
        "# Method 1: Using +\n",
        "conc_tup1 = test_tup1 + test_tup2\n",
        "print(\"Method1: \",conc_tup1)\n",
        "# Time O(N), Space O(N)\n",
        "# Method 2: Using sum()\n",
        "conc_tup2 = sum((test_tup1, test_tup2), ())\n",
        "print(\"Method2: \",conc_tup2)\n",
        "# Method 3: Using list and extend\n",
        "x = list(test_tup1)\n",
        "y = list(test_tup2)\n",
        "x.extend(y)\n",
        "conc_tup3 = tuple(x)\n",
        "print(\"Method3: \",conc_tup3)\n",
        "# Method 4: Using itertools.chain()\n",
        "conc_tup4 = tuple(itertools.chain(test_tup1, test_tup2))\n",
        "print(\"Method4: \",conc_tup4)\n",
        "# Method 5: Using tuple() constructor and the + operator\n",
        "conc_tup5 = tuple(test_tup1 + test_tup2)\n",
        "print(\"Method5: \",conc_tup5)\n",
        "# Method 6: Using lambda function with reduce()\n",
        "concat_tuples = lambda test_tup1, test_tup2: reduce(lambda x, y: x + y, [test_tup1, test_tup2])\n",
        "conc_tup6 = concat_tuples(test_tup1, test_tup2)\n",
        "print(\"Method6: \",conc_tup6)\n",
        "# Method 7: Using the += operator and the += method:\n",
        "test_tup1 += test_tup2\n",
        "print(\"Method7: \",test_tup1)"
      ],
      "metadata": {
        "colab": {
          "base_uri": "https://localhost:8080/"
        },
        "id": "wV4ynBFkLTK_",
        "outputId": "7e5d6dad-71c9-4715-98b6-56bde96dd1af"
      },
      "execution_count": 34,
      "outputs": [
        {
          "output_type": "stream",
          "name": "stdout",
          "text": [
            "Method1:  (1, 31, 5, 4, 6)\n",
            "Method2:  (1, 31, 5, 4, 6)\n",
            "Method3:  (1, 31, 5, 4, 6)\n",
            "Method4:  (1, 31, 5, 4, 6)\n",
            "Method5:  (1, 31, 5, 4, 6)\n",
            "Method6:  (1, 31, 5, 4, 6)\n",
            "Method7:  (1, 31, 5, 4, 6)\n"
          ]
        }
      ]
    },
    {
      "cell_type": "code",
      "source": [
        "# Clearing tuple\n",
        "test_tup3 = (1, 31, 5,8,9)\n",
        "# Method 1: Using list() + clear() + tuple()\n",
        "temp = list(test_tup3)\n",
        "temp.clear()\n",
        "test_tup3 = tuple(temp)\n",
        "print(test_tup3)"
      ],
      "metadata": {
        "colab": {
          "base_uri": "https://localhost:8080/"
        },
        "id": "sPm6BEYBO8B8",
        "outputId": "76b2d967-fc8d-4f68-bf32-16cbc65d5a65"
      },
      "execution_count": 36,
      "outputs": [
        {
          "output_type": "stream",
          "name": "stdout",
          "text": [
            "()\n"
          ]
        }
      ]
    },
    {
      "cell_type": "code",
      "source": [
        "# Clearing tuple\n",
        "test_tup3 = (1, 31, 5,8,9)\n",
        "# Method 2: Reinitialization using tuple()\n",
        "test_tup3 = tuple()\n",
        "print(test_tup3)"
      ],
      "metadata": {
        "colab": {
          "base_uri": "https://localhost:8080/"
        },
        "id": "83YsqBuuP6Sq",
        "outputId": "06bd0ce1-04f4-4c68-9660-0c4bc197decf"
      },
      "execution_count": 37,
      "outputs": [
        {
          "output_type": "stream",
          "name": "stdout",
          "text": [
            "()\n"
          ]
        }
      ]
    },
    {
      "cell_type": "code",
      "source": [
        "# Clearing tuple\n",
        "test_tup3 = (1, 31, 5,8,9)\n",
        "# Method 3: Using * operator\n",
        "test_tup3 = test_tup3 * 0\n",
        "print(test_tup3)"
      ],
      "metadata": {
        "colab": {
          "base_uri": "https://localhost:8080/"
        },
        "id": "ScFkhtYUQRqo",
        "outputId": "3c89aff5-4d06-4599-d366-7398e2b8e6ab"
      },
      "execution_count": 38,
      "outputs": [
        {
          "output_type": "stream",
          "name": "stdout",
          "text": [
            "()\n"
          ]
        }
      ]
    },
    {
      "cell_type": "code",
      "source": [
        "# Clearing tuple\n",
        "test_tup3 = (1, 31, 5,8,9)\n",
        "# Method 4: Using slicing and concatenation\n",
        "test_tup3 = test_tup3[0:0] + ()\n",
        "print(test_tup3)"
      ],
      "metadata": {
        "colab": {
          "base_uri": "https://localhost:8080/"
        },
        "id": "-0KgzpLCQcLX",
        "outputId": "45ea6821-f407-4d7c-eaa5-b3a72886776b"
      },
      "execution_count": 39,
      "outputs": [
        {
          "output_type": "stream",
          "name": "stdout",
          "text": [
            "()\n"
          ]
        }
      ]
    }
  ]
}