{
  "nbformat": 4,
  "nbformat_minor": 0,
  "metadata": {
    "colab": {
      "provenance": [],
      "authorship_tag": "ABX9TyPT4/pI+sNk0dLed69tKD7a",
      "include_colab_link": true
    },
    "kernelspec": {
      "name": "python3",
      "display_name": "Python 3"
    },
    "language_info": {
      "name": "python"
    }
  },
  "cells": [
    {
      "cell_type": "markdown",
      "metadata": {
        "id": "view-in-github",
        "colab_type": "text"
      },
      "source": [
        "<a href=\"https://colab.research.google.com/github/SinghPrach/BrushUp_Python/blob/main/27Oct.ipynb\" target=\"_parent\"><img src=\"https://colab.research.google.com/assets/colab-badge.svg\" alt=\"Open In Colab\"/></a>"
      ]
    },
    {
      "cell_type": "code",
      "execution_count": 1,
      "metadata": {
        "colab": {
          "base_uri": "https://localhost:8080/"
        },
        "id": "nP7YoyfcxdZL",
        "outputId": "78da55f4-baf8-481a-85c0-ada8716095b4"
      },
      "outputs": [
        {
          "output_type": "stream",
          "name": "stdout",
          "text": [
            "Hello\n",
            "World\n",
            "Nice\n",
            "meeting\n",
            "1\n"
          ]
        }
      ],
      "source": [
        "def FirstArgFunc(*argu):\n",
        "    for arg in argu:\n",
        "        print(arg)\n",
        "FirstArgFunc('Hello', 'World', 'Nice', 'meeting',1)"
      ]
    },
    {
      "cell_type": "code",
      "source": [
        "def FuncTwoArguments(arg1, *argvar):\n",
        "    print(\"First argument :\", arg1)\n",
        "    for arg in argvar:\n",
        "        print(\"Next argument through *argvar :\", arg)\n",
        "FuncTwoArguments('Hello', 'Welcome', 'to', 'this','world')"
      ],
      "metadata": {
        "colab": {
          "base_uri": "https://localhost:8080/"
        },
        "id": "Nd17gG8cyPNj",
        "outputId": "219fce05-2850-475d-8503-76eaa4d20a52"
      },
      "execution_count": 4,
      "outputs": [
        {
          "output_type": "stream",
          "name": "stdout",
          "text": [
            "First argument : Hello\n",
            "Next argument through *argvar : Welcome\n",
            "Next argument through *argvar : to\n",
            "Next argument through *argvar : this\n",
            "Next argument through *argvar : world\n"
          ]
        }
      ]
    },
    {
      "cell_type": "code",
      "source": [
        "def KwargFunc(**kwargs):\n",
        "    for key, value in kwargs.items():\n",
        "        print(\"%s == %s\" % (key, value))\n",
        "KwargFunc(first='Prachi', mid='Singh', last='Rajput')"
      ],
      "metadata": {
        "colab": {
          "base_uri": "https://localhost:8080/"
        },
        "id": "dCyKY1zByfFr",
        "outputId": "0b792f01-c033-4998-f235-58d08ae71b6c"
      },
      "execution_count": 5,
      "outputs": [
        {
          "output_type": "stream",
          "name": "stdout",
          "text": [
            "first == Prachi\n",
            "mid == Singh\n",
            "last == Rajput\n"
          ]
        }
      ]
    },
    {
      "cell_type": "code",
      "source": [
        "# Using *args in Python to set values of object\n",
        "class car():\n",
        "    def __init__(self, *args):\n",
        "        self.speed = args[0]\n",
        "        self.color = args[1]\n",
        "\n",
        "# creating objects of car class\n",
        "audi = car(200, 'red')\n",
        "bmw = car(250, 'black')\n",
        "mb = car(190, 'white')\n",
        "\n",
        "# printing the color and speed of the cars\n",
        "print(audi.color)\n",
        "print(bmw.speed)\n",
        "print(mb.color)"
      ],
      "metadata": {
        "colab": {
          "base_uri": "https://localhost:8080/"
        },
        "id": "Z4MzSFra6uyA",
        "outputId": "4a9ac095-b2c5-4c86-d830-bafb215efe72"
      },
      "execution_count": 6,
      "outputs": [
        {
          "output_type": "stream",
          "name": "stdout",
          "text": [
            "red\n",
            "250\n",
            "white\n"
          ]
        }
      ]
    },
    {
      "cell_type": "code",
      "source": [
        "# Using *kwargs in Python to set values of object\n",
        "# defining car class\n",
        "class car():\n",
        "\tdef __init__(self, **kwargs):\n",
        "\t\t# access args index like array does\n",
        "\t\tself.speed = kwargs['s']\n",
        "\t\tself.color = kwargs['c']\n",
        "\n",
        "# creating objects of car class\n",
        "audi = car(s=200, c='red')\n",
        "bmw = car(s=250, c='black')\n",
        "mb = car(s=190, c='white')\n",
        "\n",
        "# printing the color and speed of cars\n",
        "print(audi.color)\n",
        "print(bmw.speed)\n",
        "print(mb.color)"
      ],
      "metadata": {
        "colab": {
          "base_uri": "https://localhost:8080/"
        },
        "id": "3rx50Qck7a9C",
        "outputId": "088d717d-d5ab-467e-ce97-7b440a849ee3"
      },
      "execution_count": 7,
      "outputs": [
        {
          "output_type": "stream",
          "name": "stdout",
          "text": [
            "red\n",
            "250\n",
            "white\n"
          ]
        }
      ]
    },
    {
      "cell_type": "code",
      "source": [
        "# Python Lambda\n",
        "string = 'Hello World!'\n",
        "# lambda returns a function object\n",
        "print(lambda string: string)\n",
        "\n",
        "\n",
        "add_exclaim = lambda s: s + '!'\n",
        "print(\"add_exclaim():\", add_exclaim(\"Hey\"))\n",
        "\n",
        "list_var = [\"1\", \"2\", \"9\", \"0\", \"-1\", \"-2\"]\n",
        "print(\"Operation on each item using lambda and map():- \",\n",
        "      list(map(lambda x: str(int(x) + 10), list_var)))"
      ],
      "metadata": {
        "colab": {
          "base_uri": "https://localhost:8080/"
        },
        "id": "cS-auZI97pEX",
        "outputId": "f5e33f50-279c-4d07-d780-b07c8890a826"
      },
      "execution_count": 11,
      "outputs": [
        {
          "output_type": "stream",
          "name": "stdout",
          "text": [
            "<function <lambda> at 0x7dea301ed750>\n",
            "add_exclaim(): Hey!\n",
            "Operation on each item using lambda and map():-  ['11', '12', '19', '10', '9', '8']\n"
          ]
        }
      ]
    },
    {
      "cell_type": "code",
      "source": [
        "# First class functions in Python\n",
        "def convert_text_to_upper(text):\n",
        "    return text.upper()\n",
        "\n",
        "print (convert_text_to_upper('Hello'))\n",
        "\n",
        "variable_convert_text_to_upper = convert_text_to_upper\n",
        "\n",
        "print (variable_convert_text_to_upper('Hello'))"
      ],
      "metadata": {
        "colab": {
          "base_uri": "https://localhost:8080/"
        },
        "id": "spSUmxg6Ab-5",
        "outputId": "61b8b4ca-07fe-4324-950e-d03bbdc80cd1"
      },
      "execution_count": 12,
      "outputs": [
        {
          "output_type": "stream",
          "name": "stdout",
          "text": [
            "HELLO\n",
            "HELLO\n"
          ]
        }
      ]
    },
    {
      "cell_type": "code",
      "source": [
        "def convert_text_to_upper(text):\n",
        "    return text.upper()\n",
        "\n",
        "def convert_text_to_lower(text):\n",
        "    return text.lower()\n",
        "\n",
        "def greet(func):\n",
        "    # storing the function in a variable\n",
        "    greeting = func(\"\"\"This block is created by a function\n",
        "                    passed as an argument.\"\"\")\n",
        "    print (greeting)\n",
        "\n",
        "greet(convert_text_to_upper)\n",
        "greet(convert_text_to_lower)"
      ],
      "metadata": {
        "colab": {
          "base_uri": "https://localhost:8080/"
        },
        "id": "K6A7C0CPEatK",
        "outputId": "12d4ecd8-4b6d-4032-e045-f8d0592d5096"
      },
      "execution_count": 13,
      "outputs": [
        {
          "output_type": "stream",
          "name": "stdout",
          "text": [
            "THIS BLOCK IS CREATED BY A FUNCTION \n",
            "                    PASSED AS AN ARGUMENT.\n",
            "this block is created by a function \n",
            "                    passed as an argument.\n"
          ]
        }
      ]
    },
    {
      "cell_type": "code",
      "source": [
        "def create_adder(x):\n",
        "    def adder(y):\n",
        "        return x+y\n",
        "\n",
        "    return adder\n",
        "\n",
        "add_15 = create_adder(15)\n",
        "\n",
        "print (add_15(10))"
      ],
      "metadata": {
        "colab": {
          "base_uri": "https://localhost:8080/"
        },
        "id": "uJTWjKVNEsAO",
        "outputId": "7f1f6078-eab2-4f56-ee58-d8adeccecac9"
      },
      "execution_count": 14,
      "outputs": [
        {
          "output_type": "stream",
          "name": "stdout",
          "text": [
            "25\n"
          ]
        }
      ]
    },
    {
      "cell_type": "code",
      "source": [
        "# Decorators in Python\n",
        "# defining a decorator\n",
        "def first_decorator(func):\n",
        "\n",
        "    # inner1 is a Wrapper function in which the argument is called\n",
        "\n",
        "    # inner function can access the outer local functions like in this case \"func\"\n",
        "    def inner1():\n",
        "        print(\"Hello, this is before function execution\")\n",
        "\n",
        "        # calling the actual function now inside the wrapper function.\n",
        "        func()\n",
        "\n",
        "        print(\"This is after function execution\")\n",
        "\n",
        "    return inner1\n",
        "\n",
        "\n",
        "# defining a function, to be called inside wrapper\n",
        "def function_to_be_used():\n",
        "    print(\"This is inside the function !!\")\n",
        "\n",
        "\n",
        "# passing 'function_to_be_used' inside the decorator to control its behaviour\n",
        "function_to_be_used = first_decorator(function_to_be_used)\n",
        "\n",
        "# calling the function\n",
        "function_to_be_used()"
      ],
      "metadata": {
        "id": "qOoUb4N5Eys-"
      },
      "execution_count": null,
      "outputs": []
    }
  ]
}