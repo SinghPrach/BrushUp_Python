{
  "nbformat": 4,
  "nbformat_minor": 0,
  "metadata": {
    "colab": {
      "provenance": [],
      "authorship_tag": "ABX9TyMkx2Gb6CD1PeOUx2eReiKt"
    },
    "kernelspec": {
      "name": "python3",
      "display_name": "Python 3"
    },
    "language_info": {
      "name": "python"
    }
  },
  "cells": [
    {
      "cell_type": "markdown",
      "source": [
        "Dictionary"
      ],
      "metadata": {
        "id": "X5qJ9toGU7rU"
      }
    },
    {
      "cell_type": "code",
      "source": [
        "# Creating a dictionary\n",
        "# Method 1\n",
        "dict1 = {}\n",
        "dict2 = {1:'My',2:'Name',3:'is',4:'Prachi',5:'Singh'}\n",
        "dict3 = {1:'I',2:'am',3:{'A':'From','B':'Patna'}}\n",
        "print(dict1)\n",
        "print(dict2)\n",
        "print(dict3)"
      ],
      "metadata": {
        "colab": {
          "base_uri": "https://localhost:8080/"
        },
        "id": "9nDo4qxWU6wC",
        "outputId": "c60d31a7-65b5-469a-d931-905f1c10a0d0"
      },
      "execution_count": 2,
      "outputs": [
        {
          "output_type": "stream",
          "name": "stdout",
          "text": [
            "{}\n",
            "{1: 'My', 2: 'Name', 3: 'is', 4: 'Prachi', 5: 'Singh'}\n",
            "{1: 'I', 2: 'am', 3: {'A': 'From', 'B': 'Patna'}}\n",
            "{1: 'Hey', 2: 'People'}\n",
            "{1: 'I', 2: 'love', 3: 'India'}\n"
          ]
        }
      ]
    },
    {
      "cell_type": "code",
      "execution_count": 5,
      "metadata": {
        "colab": {
          "base_uri": "https://localhost:8080/"
        },
        "id": "w6urgs49T0Na",
        "outputId": "5213514e-be70-44e2-ddf8-b3a4b243141e"
      },
      "outputs": [
        {
          "output_type": "stream",
          "name": "stdout",
          "text": [
            "<class 'dict'>\n",
            "set()\n",
            "<class 'set'>\n"
          ]
        }
      ],
      "source": [
        "# Set Vs Dictionary\n",
        "dict1 = {}\n",
        "print(type(dict1))\n",
        "x = set()\n",
        "print(x)\n",
        "print(type(x))"
      ]
    },
    {
      "cell_type": "code",
      "source": [
        "# Method 2\n",
        "# Using dict() on lists\n",
        "list1 = [(1,'Hey'),(2,'People')]\n",
        "dict4 = dict(list1)\n",
        "dict5 = dict({1: 'I', 2: 'love', 3: 'India'})\n",
        "print(dict4)\n",
        "print(dict5)"
      ],
      "metadata": {
        "colab": {
          "base_uri": "https://localhost:8080/"
        },
        "id": "pXRpIoNlmZQY",
        "outputId": "5658e5d1-5890-481f-dd70-f0fc9003883d"
      },
      "execution_count": 7,
      "outputs": [
        {
          "output_type": "stream",
          "name": "stdout",
          "text": [
            "{1: 'Hey', 2: 'People'}\n",
            "{1: 'I', 2: 'love', 3: 'India'}\n"
          ]
        }
      ]
    },
    {
      "cell_type": "code",
      "source": [
        "# Method 3\n",
        "# Appending values to an empty dictionary\n",
        "dict6 = {}\n",
        "dict7 = {}\n",
        "list2 = [['a', 1], ['b', 2], ['a', 3], ['c', 4]]\n",
        "list3 = [(1,'Hey'),(2,'People'),(3,'What'),(1,'You')]\n",
        "def list_to_dict(d,l):\n",
        "  for i in range(len(l)):\n",
        "    if l[i][0] in d:\n",
        "        d[l[i][0]].append(l[i][1])\n",
        "    else:\n",
        "      d[l[i][0]]= []\n",
        "      d[l[i][0]].append(l[i][1])\n",
        "  return d\n",
        "print(list_to_dict(dict6,list2))\n",
        "print(list_to_dict(dict7,list3))"
      ],
      "metadata": {
        "colab": {
          "base_uri": "https://localhost:8080/"
        },
        "id": "VVJZyOiym0jG",
        "outputId": "c3f950db-fc45-4c23-80ae-3dd9135dd26f"
      },
      "execution_count": 10,
      "outputs": [
        {
          "output_type": "stream",
          "name": "stdout",
          "text": [
            "{'a': [1, 3], 'b': [2], 'c': [4]}\n",
            "{1: ['Hey', 'You'], 2: ['People'], 3: ['What']}\n"
          ]
        }
      ]
    },
    {
      "cell_type": "code",
      "source": [
        "# Adding another element to the dictionary, when already provided with key and value separately\n",
        "# Key to be added\n",
        "key_ref = 'More Nested key-value'\n",
        "# Existing dictionary\n",
        "dict8 = {\n",
        "    'Nested Things': [{'name', 'one'}, {'name', 'two'}]\n",
        "}\n",
        "# list of values to be added\n",
        "list4 = [{'name', 'three'}, {'name', 'four'}]\n",
        "# try-except to take care of errors while adding values\n",
        "try:\n",
        "    dict8[key_ref].append(list4)\n",
        "except KeyError:\n",
        "    my_dict = {**dict8, **{key_ref: list4}}\n",
        "print(dict8)"
      ],
      "metadata": {
        "colab": {
          "base_uri": "https://localhost:8080/"
        },
        "id": "DIdnO4ZXpZdW",
        "outputId": "d753f822-913a-402a-9dfd-e05d0ff7a9fa"
      },
      "execution_count": 11,
      "outputs": [
        {
          "output_type": "stream",
          "name": "stdout",
          "text": [
            "{'Nested Things': [{'one', 'name'}, {'two', 'name'}]}\n"
          ]
        }
      ]
    },
    {
      "cell_type": "code",
      "source": [
        "# Adding elements to a dictionary\n",
        "dict9 = {}\n",
        "print(dict9)\n",
        "dict9[1] = 'Hey'\n",
        "dict9['a'] = 26\n",
        "print(dict9)\n",
        "dict9['Value_set'] = 2, 3, 4\n",
        "print(dict9)\n",
        "dict9['1'] = 'Welcome'\n",
        "print(dict9)\n",
        "dict9[2] = {'Nested': {'1': 'Hello', '2': 'World'}}\n",
        "print(dict9)"
      ],
      "metadata": {
        "colab": {
          "base_uri": "https://localhost:8080/"
        },
        "id": "e5zHD90HrLc5",
        "outputId": "cc66dc7c-f31e-427c-fd17-ef76e0122133"
      },
      "execution_count": 17,
      "outputs": [
        {
          "output_type": "stream",
          "name": "stdout",
          "text": [
            "{}\n",
            "{1: 'Hey', 'a': 26}\n",
            "{1: 'Hey', 'a': 26, 'Value_set': (2, 3, 4)}\n",
            "{1: 'Hey', 'a': 26, 'Value_set': (2, 3, 4), '1': 'Welcome'}\n",
            "{1: 'Hey', 'a': 26, 'Value_set': (2, 3, 4), '1': 'Welcome', 2: {'Nested': {'1': 'Hello', '2': 'World'}}}\n"
          ]
        }
      ]
    },
    {
      "cell_type": "code",
      "source": [
        "# Merging two dictionaries using update()\n",
        "dict9.update(dict8)\n",
        "print(dict9)\n",
        "print(dict8)"
      ],
      "metadata": {
        "colab": {
          "base_uri": "https://localhost:8080/"
        },
        "id": "m0SUIxt-t0MK",
        "outputId": "270aa4cd-a70f-4a7f-ad69-cd8ac8284c6a"
      },
      "execution_count": 18,
      "outputs": [
        {
          "output_type": "stream",
          "name": "stdout",
          "text": [
            "{1: 'Hey', 'a': 26, 'Value_set': (2, 3, 4), '1': 'Welcome', 2: {'Nested': {'1': 'Hello', '2': 'World'}}, 'Nested Things': [{'one', 'name'}, {'two', 'name'}]}\n",
            "{'Nested Things': [{'one', 'name'}, {'two', 'name'}]}\n"
          ]
        }
      ]
    },
    {
      "cell_type": "code",
      "source": [
        "# Adding values to dictionary using two lists of the same length\n",
        "list5 = [1,2,3,4,5]\n",
        "list6 = ['Harry','Ram','Krisna','Sita','Arjun']\n",
        "dict_students = dict(zip(list5,list6))\n",
        "print(dict_students)\n",
        "# Converting any list to dictionary\n",
        "name_dict = dict(enumerate(list6))\n",
        "print(name_dict)\n",
        "# Adding values using merge | operator\n",
        "dict_merge1 = dict_students | name_dict\n",
        "print(dict_merge1)\n",
        "dict_merge2 = name_dict|dict_students\n",
        "print(dict_merge2)\n",
        "name_dict1 = name_dict\n",
        "# Using the in-place |= merge\n",
        "name_dict1 |= dict_students #It is equal to name_dict|dict_students\n",
        "print(name_dict1)"
      ],
      "metadata": {
        "colab": {
          "base_uri": "https://localhost:8080/"
        },
        "id": "woStW_BztHc_",
        "outputId": "50bbdf98-8e7c-4ba8-8d08-51dd4f922280"
      },
      "execution_count": 35,
      "outputs": [
        {
          "output_type": "stream",
          "name": "stdout",
          "text": [
            "{1: 'Harry', 2: 'Ram', 3: 'Krisna', 4: 'Sita', 5: 'Arjun'}\n",
            "{0: 'Harry', 1: 'Ram', 2: 'Krisna', 3: 'Sita', 4: 'Arjun'}\n",
            "{1: 'Ram', 2: 'Krisna', 3: 'Sita', 4: 'Arjun', 5: 'Arjun', 0: 'Harry'}\n",
            "{0: 'Harry', 1: 'Harry', 2: 'Ram', 3: 'Krisna', 4: 'Sita', 5: 'Arjun'}\n",
            "{0: 'Harry', 1: 'Harry', 2: 'Ram', 3: 'Krisna', 4: 'Sita', 5: 'Arjun'}\n"
          ]
        }
      ]
    },
    {
      "cell_type": "code",
      "source": [
        "# Accessing elements of a dictionary\n",
        "print(dict9['Value_set'])\n",
        "print(dict7.get(3))"
      ],
      "metadata": {
        "colab": {
          "base_uri": "https://localhost:8080/"
        },
        "id": "b5o1U57Xu_oP",
        "outputId": "ffb99eef-66df-4372-8dda-7cdf6f1f8815"
      },
      "execution_count": 24,
      "outputs": [
        {
          "output_type": "stream",
          "name": "stdout",
          "text": [
            "(2, 3, 4)\n",
            "['What']\n"
          ]
        }
      ]
    },
    {
      "cell_type": "code",
      "source": [
        "# Accessing elements of a nested dictionary\n",
        "print(dict9[1])\n",
        "print(dict9[2]['Nested'])\n",
        "print(dict9[2]['Nested']['1'])"
      ],
      "metadata": {
        "colab": {
          "base_uri": "https://localhost:8080/"
        },
        "id": "ke3bfp8axaOp",
        "outputId": "84cdb612-33e0-4bd8-df70-03b083c377de"
      },
      "execution_count": 25,
      "outputs": [
        {
          "output_type": "stream",
          "name": "stdout",
          "text": [
            "Hey\n",
            "{'1': 'Hello', '2': 'World'}\n",
            "Hello\n"
          ]
        }
      ]
    },
    {
      "cell_type": "code",
      "source": [
        "# Accessing elements using in operator\n",
        "print(\"dict9 key-value are : \")\n",
        "for i in dict9:\n",
        "    print(i, dict9[i])"
      ],
      "metadata": {
        "colab": {
          "base_uri": "https://localhost:8080/"
        },
        "id": "Y97XNm3ZyRQM",
        "outputId": "c64f6ebb-9f6a-448b-ffd7-18f44709caa7"
      },
      "execution_count": 26,
      "outputs": [
        {
          "output_type": "stream",
          "name": "stdout",
          "text": [
            "dict9 key-value are : \n",
            "1 Hey\n",
            "a 26\n",
            "Value_set (2, 3, 4)\n",
            "1 Welcome\n",
            "2 {'Nested': {'1': 'Hello', '2': 'World'}}\n",
            "Nested Things [{'one', 'name'}, {'two', 'name'}]\n"
          ]
        }
      ]
    },
    {
      "cell_type": "code",
      "source": [
        "# Accessing elements using list comprehension\n",
        "print([(k, dict9[k]) for k in dict9])"
      ],
      "metadata": {
        "colab": {
          "base_uri": "https://localhost:8080/"
        },
        "id": "geNw8WOJynim",
        "outputId": "93d490aa-854c-41e8-d438-faee6223f039"
      },
      "execution_count": 27,
      "outputs": [
        {
          "output_type": "stream",
          "name": "stdout",
          "text": [
            "[(1, 'Hey'), ('a', 26), ('Value_set', (2, 3, 4)), ('1', 'Welcome'), (2, {'Nested': {'1': 'Hello', '2': 'World'}}), ('Nested Things', [{'one', 'name'}, {'two', 'name'}])]\n"
          ]
        }
      ]
    },
    {
      "cell_type": "code",
      "source": [
        "# Accessing elements using dict.items()\n",
        "for key, value in dict9.items():\n",
        "    print(key, value)"
      ],
      "metadata": {
        "colab": {
          "base_uri": "https://localhost:8080/"
        },
        "id": "g8XWDJipzNlz",
        "outputId": "03949641-3ad5-4555-c379-b5a5ad118d6e"
      },
      "execution_count": 28,
      "outputs": [
        {
          "output_type": "stream",
          "name": "stdout",
          "text": [
            "1 Hey\n",
            "a 26\n",
            "Value_set (2, 3, 4)\n",
            "1 Welcome\n",
            "2 {'Nested': {'1': 'Hello', '2': 'World'}}\n",
            "Nested Things [{'one', 'name'}, {'two', 'name'}]\n"
          ]
        }
      ]
    },
    {
      "cell_type": "code",
      "source": [
        "# Accessing elements using enumerate()\n",
        "for i in enumerate(dict9.items()):\n",
        "    print(i)"
      ],
      "metadata": {
        "colab": {
          "base_uri": "https://localhost:8080/"
        },
        "id": "Kr3F7ikFzavL",
        "outputId": "05be139d-ebda-47d6-ffef-4ac9f902bea5"
      },
      "execution_count": 29,
      "outputs": [
        {
          "output_type": "stream",
          "name": "stdout",
          "text": [
            "(0, (1, 'Hey'))\n",
            "(1, ('a', 26))\n",
            "(2, ('Value_set', (2, 3, 4)))\n",
            "(3, ('1', 'Welcome'))\n",
            "(4, (2, {'Nested': {'1': 'Hello', '2': 'World'}}))\n",
            "(5, ('Nested Things', [{'one', 'name'}, {'two', 'name'}]))\n"
          ]
        }
      ]
    },
    {
      "cell_type": "code",
      "source": [
        "# Accessing elements using for loop and items() method\n",
        "key_value_pairs = []\n",
        "for key, value in dict9.items():\n",
        "    key_value_pairs.append((key, value))\n",
        "print(key_value_pairs)\n",
        "for pair in key_value_pairs:\n",
        "    print(pair)"
      ],
      "metadata": {
        "colab": {
          "base_uri": "https://localhost:8080/"
        },
        "id": "0uGvjI2azz33",
        "outputId": "54cf2a86-bb3f-47fb-9ce5-6d142b2883cc"
      },
      "execution_count": 30,
      "outputs": [
        {
          "output_type": "stream",
          "name": "stdout",
          "text": [
            "[(1, 'Hey'), ('a', 26), ('Value_set', (2, 3, 4)), ('1', 'Welcome'), (2, {'Nested': {'1': 'Hello', '2': 'World'}}), ('Nested Things', [{'one', 'name'}, {'two', 'name'}])]\n",
            "(1, 'Hey')\n",
            "('a', 26)\n",
            "('Value_set', (2, 3, 4))\n",
            "('1', 'Welcome')\n",
            "(2, {'Nested': {'1': 'Hello', '2': 'World'}})\n",
            "('Nested Things', [{'one', 'name'}, {'two', 'name'}])\n"
          ]
        }
      ]
    },
    {
      "cell_type": "code",
      "source": [
        "# Deleleting elements of a dictionary\n",
        "del dict9[1]\n",
        "print(dict9)"
      ],
      "metadata": {
        "colab": {
          "base_uri": "https://localhost:8080/"
        },
        "id": "W-IzHzJ50GSU",
        "outputId": "6d085b79-4e89-4ecb-cb4f-9f3d19368f0b"
      },
      "execution_count": 31,
      "outputs": [
        {
          "output_type": "stream",
          "name": "stdout",
          "text": [
            "{'a': 26, 'Value_set': (2, 3, 4), '1': 'Welcome', 2: {'Nested': {'1': 'Hello', '2': 'World'}}, 'Nested Things': [{'one', 'name'}, {'two', 'name'}]}\n"
          ]
        }
      ]
    },
    {
      "cell_type": "code",
      "source": [
        "# Dictionary Methods\n",
        "dict8.clear()\n",
        "print(dict8)\n",
        "dict10 = dict9.copy()\n",
        "print(dict10)\n",
        "print(dict9.get(2))\n",
        "print(name_dict.items())\n",
        "print(name_dict.keys())\n",
        "print(name_dict.values())\n",
        "print(name_dict.pop(2))\n",
        "print(name_dict.popitem())"
      ],
      "metadata": {
        "colab": {
          "base_uri": "https://localhost:8080/"
        },
        "id": "_oxi8RFD09Vc",
        "outputId": "09dcaf7b-4518-4dc3-c260-6fde0663396f"
      },
      "execution_count": 36,
      "outputs": [
        {
          "output_type": "stream",
          "name": "stdout",
          "text": [
            "{}\n",
            "{'a': 26, 'Value_set': (2, 3, 4), '1': 'Welcome', 2: {'Nested': {'1': 'Hello', '2': 'World'}}, 'Nested Things': [{'one', 'name'}, {'two', 'name'}]}\n",
            "{'Nested': {'1': 'Hello', '2': 'World'}}\n",
            "dict_items([(0, 'Harry'), (1, 'Harry'), (2, 'Ram'), (3, 'Krisna'), (4, 'Sita'), (5, 'Arjun')])\n",
            "dict_keys([0, 1, 2, 3, 4, 5])\n",
            "dict_values(['Harry', 'Harry', 'Ram', 'Krisna', 'Sita', 'Arjun'])\n",
            "Ram\n",
            "(5, 'Arjun')\n"
          ]
        }
      ]
    }
  ]
}