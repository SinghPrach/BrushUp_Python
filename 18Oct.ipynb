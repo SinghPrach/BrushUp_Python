{
  "nbformat": 4,
  "nbformat_minor": 0,
  "metadata": {
    "colab": {
      "provenance": [],
      "authorship_tag": "ABX9TyMT/xeyVbwD1XyEfDcag9YB"
    },
    "kernelspec": {
      "name": "python3",
      "display_name": "Python 3"
    },
    "language_info": {
      "name": "python"
    }
  },
  "cells": [
    {
      "cell_type": "markdown",
      "source": [
        "Dictionary"
      ],
      "metadata": {
        "id": "X5qJ9toGU7rU"
      }
    },
    {
      "cell_type": "code",
      "source": [
        "# Creating a dictionary\n",
        "# Method 1\n",
        "dict1 = {}\n",
        "dict2 = {1:'My',2:'Name',3:'is',4:'Prachi',5:'Singh'}\n",
        "dict3 = {1:'I',2:'am',3:{'A':'From','B':'Patna'}}\n",
        "print(dict1)\n",
        "print(dict2)\n",
        "print(dict3)"
      ],
      "metadata": {
        "colab": {
          "base_uri": "https://localhost:8080/"
        },
        "id": "9nDo4qxWU6wC",
        "outputId": "c60d31a7-65b5-469a-d931-905f1c10a0d0"
      },
      "execution_count": null,
      "outputs": [
        {
          "output_type": "stream",
          "name": "stdout",
          "text": [
            "{}\n",
            "{1: 'My', 2: 'Name', 3: 'is', 4: 'Prachi', 5: 'Singh'}\n",
            "{1: 'I', 2: 'am', 3: {'A': 'From', 'B': 'Patna'}}\n",
            "{1: 'Hey', 2: 'People'}\n",
            "{1: 'I', 2: 'love', 3: 'India'}\n"
          ]
        }
      ]
    },
    {
      "cell_type": "code",
      "execution_count": null,
      "metadata": {
        "colab": {
          "base_uri": "https://localhost:8080/"
        },
        "id": "w6urgs49T0Na",
        "outputId": "5213514e-be70-44e2-ddf8-b3a4b243141e"
      },
      "outputs": [
        {
          "output_type": "stream",
          "name": "stdout",
          "text": [
            "<class 'dict'>\n",
            "set()\n",
            "<class 'set'>\n"
          ]
        }
      ],
      "source": [
        "# Set Vs Dictionary\n",
        "dict1 = {}\n",
        "print(type(dict1))\n",
        "x = set()\n",
        "print(x)\n",
        "print(type(x))"
      ]
    },
    {
      "cell_type": "code",
      "source": [
        "# Method 2\n",
        "# Using dict() on lists\n",
        "list1 = [(1,'Hey'),(2,'People')]\n",
        "dict4 = dict(list1)\n",
        "dict5 = dict({1: 'I', 2: 'love', 3: 'India'})\n",
        "print(dict4)\n",
        "print(dict5)"
      ],
      "metadata": {
        "colab": {
          "base_uri": "https://localhost:8080/"
        },
        "id": "pXRpIoNlmZQY",
        "outputId": "5658e5d1-5890-481f-dd70-f0fc9003883d"
      },
      "execution_count": null,
      "outputs": [
        {
          "output_type": "stream",
          "name": "stdout",
          "text": [
            "{1: 'Hey', 2: 'People'}\n",
            "{1: 'I', 2: 'love', 3: 'India'}\n"
          ]
        }
      ]
    },
    {
      "cell_type": "code",
      "source": [
        "# Method 3\n",
        "# Appending values to an empty dictionary\n",
        "dict6 = {}\n",
        "dict7 = {}\n",
        "list2 = [['a', 1], ['b', 2], ['a', 3], ['c', 4]]\n",
        "list3 = [(1,'Hey'),(2,'People'),(3,'What'),(1,'You')]\n",
        "def list_to_dict(d,l):\n",
        "  for i in range(len(l)):\n",
        "    if l[i][0] in d:\n",
        "        d[l[i][0]].append(l[i][1])\n",
        "    else:\n",
        "      d[l[i][0]]= []\n",
        "      d[l[i][0]].append(l[i][1])\n",
        "  return d\n",
        "print(list_to_dict(dict6,list2))\n",
        "print(list_to_dict(dict7,list3))"
      ],
      "metadata": {
        "colab": {
          "base_uri": "https://localhost:8080/"
        },
        "id": "VVJZyOiym0jG",
        "outputId": "c3f950db-fc45-4c23-80ae-3dd9135dd26f"
      },
      "execution_count": null,
      "outputs": [
        {
          "output_type": "stream",
          "name": "stdout",
          "text": [
            "{'a': [1, 3], 'b': [2], 'c': [4]}\n",
            "{1: ['Hey', 'You'], 2: ['People'], 3: ['What']}\n"
          ]
        }
      ]
    },
    {
      "cell_type": "code",
      "source": [
        "# Adding another element to the dictionary, when already provided with key and value separately\n",
        "# Key to be added\n",
        "key_ref = 'More Nested key-value'\n",
        "# Existing dictionary\n",
        "dict8 = {\n",
        "    'Nested Things': [{'name', 'one'}, {'name', 'two'}]\n",
        "}\n",
        "# list of values to be added\n",
        "list4 = [{'name', 'three'}, {'name', 'four'}]\n",
        "# try-except to take care of errors while adding values\n",
        "try:\n",
        "    dict8[key_ref].append(list4)\n",
        "except KeyError:\n",
        "    my_dict = {**dict8, **{key_ref: list4}}\n",
        "print(dict8)"
      ],
      "metadata": {
        "colab": {
          "base_uri": "https://localhost:8080/"
        },
        "id": "DIdnO4ZXpZdW",
        "outputId": "d753f822-913a-402a-9dfd-e05d0ff7a9fa"
      },
      "execution_count": null,
      "outputs": [
        {
          "output_type": "stream",
          "name": "stdout",
          "text": [
            "{'Nested Things': [{'one', 'name'}, {'two', 'name'}]}\n"
          ]
        }
      ]
    },
    {
      "cell_type": "code",
      "source": [
        "# Adding elements to a dictionary\n",
        "dict9 = {}\n",
        "print(dict9)\n",
        "dict9[1] = 'Hey'\n",
        "dict9['a'] = 26\n",
        "print(dict9)\n",
        "dict9['Value_set'] = 2, 3, 4\n",
        "print(dict9)\n",
        "dict9['1'] = 'Welcome'\n",
        "print(dict9)\n",
        "dict9[2] = {'Nested': {'1': 'Hello', '2': 'World'}}\n",
        "print(dict9)"
      ],
      "metadata": {
        "colab": {
          "base_uri": "https://localhost:8080/"
        },
        "id": "e5zHD90HrLc5",
        "outputId": "cc66dc7c-f31e-427c-fd17-ef76e0122133"
      },
      "execution_count": null,
      "outputs": [
        {
          "output_type": "stream",
          "name": "stdout",
          "text": [
            "{}\n",
            "{1: 'Hey', 'a': 26}\n",
            "{1: 'Hey', 'a': 26, 'Value_set': (2, 3, 4)}\n",
            "{1: 'Hey', 'a': 26, 'Value_set': (2, 3, 4), '1': 'Welcome'}\n",
            "{1: 'Hey', 'a': 26, 'Value_set': (2, 3, 4), '1': 'Welcome', 2: {'Nested': {'1': 'Hello', '2': 'World'}}}\n"
          ]
        }
      ]
    },
    {
      "cell_type": "code",
      "source": [
        "# Merging two dictionaries using update()\n",
        "dict9.update(dict8)\n",
        "print(dict9)\n",
        "print(dict8)"
      ],
      "metadata": {
        "colab": {
          "base_uri": "https://localhost:8080/"
        },
        "id": "m0SUIxt-t0MK",
        "outputId": "270aa4cd-a70f-4a7f-ad69-cd8ac8284c6a"
      },
      "execution_count": null,
      "outputs": [
        {
          "output_type": "stream",
          "name": "stdout",
          "text": [
            "{1: 'Hey', 'a': 26, 'Value_set': (2, 3, 4), '1': 'Welcome', 2: {'Nested': {'1': 'Hello', '2': 'World'}}, 'Nested Things': [{'one', 'name'}, {'two', 'name'}]}\n",
            "{'Nested Things': [{'one', 'name'}, {'two', 'name'}]}\n"
          ]
        }
      ]
    },
    {
      "cell_type": "code",
      "source": [
        "# Adding values to dictionary using two lists of the same length\n",
        "list5 = [1,2,3,4,5]\n",
        "list6 = ['Harry','Ram','Krisna','Sita','Arjun']\n",
        "dict_students = dict(zip(list5,list6))\n",
        "print(dict_students)\n",
        "# Converting any list to dictionary\n",
        "name_dict = dict(enumerate(list6))\n",
        "print(name_dict)\n",
        "# Adding values using merge | operator\n",
        "dict_merge1 = dict_students | name_dict\n",
        "print(dict_merge1)\n",
        "dict_merge2 = name_dict|dict_students\n",
        "print(dict_merge2)\n",
        "name_dict1 = name_dict\n",
        "# Using the in-place |= merge\n",
        "name_dict1 |= dict_students #It is equal to name_dict|dict_students\n",
        "print(name_dict1)"
      ],
      "metadata": {
        "colab": {
          "base_uri": "https://localhost:8080/"
        },
        "id": "woStW_BztHc_",
        "outputId": "50bbdf98-8e7c-4ba8-8d08-51dd4f922280"
      },
      "execution_count": null,
      "outputs": [
        {
          "output_type": "stream",
          "name": "stdout",
          "text": [
            "{1: 'Harry', 2: 'Ram', 3: 'Krisna', 4: 'Sita', 5: 'Arjun'}\n",
            "{0: 'Harry', 1: 'Ram', 2: 'Krisna', 3: 'Sita', 4: 'Arjun'}\n",
            "{1: 'Ram', 2: 'Krisna', 3: 'Sita', 4: 'Arjun', 5: 'Arjun', 0: 'Harry'}\n",
            "{0: 'Harry', 1: 'Harry', 2: 'Ram', 3: 'Krisna', 4: 'Sita', 5: 'Arjun'}\n",
            "{0: 'Harry', 1: 'Harry', 2: 'Ram', 3: 'Krisna', 4: 'Sita', 5: 'Arjun'}\n"
          ]
        }
      ]
    },
    {
      "cell_type": "code",
      "source": [
        "# Accessing elements of a dictionary\n",
        "print(dict9['Value_set'])\n",
        "print(dict7.get(3))"
      ],
      "metadata": {
        "colab": {
          "base_uri": "https://localhost:8080/"
        },
        "id": "b5o1U57Xu_oP",
        "outputId": "ffb99eef-66df-4372-8dda-7cdf6f1f8815"
      },
      "execution_count": null,
      "outputs": [
        {
          "output_type": "stream",
          "name": "stdout",
          "text": [
            "(2, 3, 4)\n",
            "['What']\n"
          ]
        }
      ]
    },
    {
      "cell_type": "code",
      "source": [
        "# Accessing elements of a nested dictionary\n",
        "print(dict9[1])\n",
        "print(dict9[2]['Nested'])\n",
        "print(dict9[2]['Nested']['1'])"
      ],
      "metadata": {
        "colab": {
          "base_uri": "https://localhost:8080/"
        },
        "id": "ke3bfp8axaOp",
        "outputId": "84cdb612-33e0-4bd8-df70-03b083c377de"
      },
      "execution_count": null,
      "outputs": [
        {
          "output_type": "stream",
          "name": "stdout",
          "text": [
            "Hey\n",
            "{'1': 'Hello', '2': 'World'}\n",
            "Hello\n"
          ]
        }
      ]
    },
    {
      "cell_type": "code",
      "source": [
        "# Accessing elements using in operator\n",
        "print(\"dict9 key-value are : \")\n",
        "for i in dict9:\n",
        "    print(i, dict9[i])"
      ],
      "metadata": {
        "colab": {
          "base_uri": "https://localhost:8080/"
        },
        "id": "Y97XNm3ZyRQM",
        "outputId": "c64f6ebb-9f6a-448b-ffd7-18f44709caa7"
      },
      "execution_count": null,
      "outputs": [
        {
          "output_type": "stream",
          "name": "stdout",
          "text": [
            "dict9 key-value are : \n",
            "1 Hey\n",
            "a 26\n",
            "Value_set (2, 3, 4)\n",
            "1 Welcome\n",
            "2 {'Nested': {'1': 'Hello', '2': 'World'}}\n",
            "Nested Things [{'one', 'name'}, {'two', 'name'}]\n"
          ]
        }
      ]
    },
    {
      "cell_type": "code",
      "source": [
        "# Accessing elements using list comprehension\n",
        "print([(k, dict9[k]) for k in dict9])"
      ],
      "metadata": {
        "colab": {
          "base_uri": "https://localhost:8080/"
        },
        "id": "geNw8WOJynim",
        "outputId": "93d490aa-854c-41e8-d438-faee6223f039"
      },
      "execution_count": null,
      "outputs": [
        {
          "output_type": "stream",
          "name": "stdout",
          "text": [
            "[(1, 'Hey'), ('a', 26), ('Value_set', (2, 3, 4)), ('1', 'Welcome'), (2, {'Nested': {'1': 'Hello', '2': 'World'}}), ('Nested Things', [{'one', 'name'}, {'two', 'name'}])]\n"
          ]
        }
      ]
    },
    {
      "cell_type": "code",
      "source": [
        "# Accessing elements using dict.items()\n",
        "for key, value in dict9.items():\n",
        "    print(key, value)"
      ],
      "metadata": {
        "colab": {
          "base_uri": "https://localhost:8080/"
        },
        "id": "g8XWDJipzNlz",
        "outputId": "03949641-3ad5-4555-c379-b5a5ad118d6e"
      },
      "execution_count": null,
      "outputs": [
        {
          "output_type": "stream",
          "name": "stdout",
          "text": [
            "1 Hey\n",
            "a 26\n",
            "Value_set (2, 3, 4)\n",
            "1 Welcome\n",
            "2 {'Nested': {'1': 'Hello', '2': 'World'}}\n",
            "Nested Things [{'one', 'name'}, {'two', 'name'}]\n"
          ]
        }
      ]
    },
    {
      "cell_type": "code",
      "source": [
        "# Accessing elements using enumerate()\n",
        "for i in enumerate(dict9.items()):\n",
        "    print(i)"
      ],
      "metadata": {
        "colab": {
          "base_uri": "https://localhost:8080/"
        },
        "id": "Kr3F7ikFzavL",
        "outputId": "05be139d-ebda-47d6-ffef-4ac9f902bea5"
      },
      "execution_count": null,
      "outputs": [
        {
          "output_type": "stream",
          "name": "stdout",
          "text": [
            "(0, (1, 'Hey'))\n",
            "(1, ('a', 26))\n",
            "(2, ('Value_set', (2, 3, 4)))\n",
            "(3, ('1', 'Welcome'))\n",
            "(4, (2, {'Nested': {'1': 'Hello', '2': 'World'}}))\n",
            "(5, ('Nested Things', [{'one', 'name'}, {'two', 'name'}]))\n"
          ]
        }
      ]
    },
    {
      "cell_type": "code",
      "source": [
        "# Accessing elements using for loop and items() method\n",
        "key_value_pairs = []\n",
        "for key, value in dict9.items():\n",
        "    key_value_pairs.append((key, value))\n",
        "print(key_value_pairs)\n",
        "for pair in key_value_pairs:\n",
        "    print(pair)"
      ],
      "metadata": {
        "colab": {
          "base_uri": "https://localhost:8080/"
        },
        "id": "0uGvjI2azz33",
        "outputId": "54cf2a86-bb3f-47fb-9ce5-6d142b2883cc"
      },
      "execution_count": null,
      "outputs": [
        {
          "output_type": "stream",
          "name": "stdout",
          "text": [
            "[(1, 'Hey'), ('a', 26), ('Value_set', (2, 3, 4)), ('1', 'Welcome'), (2, {'Nested': {'1': 'Hello', '2': 'World'}}), ('Nested Things', [{'one', 'name'}, {'two', 'name'}])]\n",
            "(1, 'Hey')\n",
            "('a', 26)\n",
            "('Value_set', (2, 3, 4))\n",
            "('1', 'Welcome')\n",
            "(2, {'Nested': {'1': 'Hello', '2': 'World'}})\n",
            "('Nested Things', [{'one', 'name'}, {'two', 'name'}])\n"
          ]
        }
      ]
    },
    {
      "cell_type": "code",
      "source": [
        "# Deleleting elements of a dictionary\n",
        "del dict9[1]\n",
        "print(dict9)"
      ],
      "metadata": {
        "colab": {
          "base_uri": "https://localhost:8080/"
        },
        "id": "W-IzHzJ50GSU",
        "outputId": "6d085b79-4e89-4ecb-cb4f-9f3d19368f0b"
      },
      "execution_count": null,
      "outputs": [
        {
          "output_type": "stream",
          "name": "stdout",
          "text": [
            "{'a': 26, 'Value_set': (2, 3, 4), '1': 'Welcome', 2: {'Nested': {'1': 'Hello', '2': 'World'}}, 'Nested Things': [{'one', 'name'}, {'two', 'name'}]}\n"
          ]
        }
      ]
    },
    {
      "cell_type": "code",
      "source": [
        "# Dictionary Methods\n",
        "dict8.clear()\n",
        "print(dict8)\n",
        "dict10 = dict9.copy()\n",
        "print(dict10)\n",
        "print(dict9.get(2))\n",
        "print(name_dict.items())\n",
        "print(name_dict.keys())\n",
        "print(name_dict.values())\n",
        "print(name_dict.pop(2))\n",
        "print(name_dict.popitem())"
      ],
      "metadata": {
        "colab": {
          "base_uri": "https://localhost:8080/"
        },
        "id": "_oxi8RFD09Vc",
        "outputId": "09dcaf7b-4518-4dc3-c260-6fde0663396f"
      },
      "execution_count": null,
      "outputs": [
        {
          "output_type": "stream",
          "name": "stdout",
          "text": [
            "{}\n",
            "{'a': 26, 'Value_set': (2, 3, 4), '1': 'Welcome', 2: {'Nested': {'1': 'Hello', '2': 'World'}}, 'Nested Things': [{'one', 'name'}, {'two', 'name'}]}\n",
            "{'Nested': {'1': 'Hello', '2': 'World'}}\n",
            "dict_items([(0, 'Harry'), (1, 'Harry'), (2, 'Ram'), (3, 'Krisna'), (4, 'Sita'), (5, 'Arjun')])\n",
            "dict_keys([0, 1, 2, 3, 4, 5])\n",
            "dict_values(['Harry', 'Harry', 'Ram', 'Krisna', 'Sita', 'Arjun'])\n",
            "Ram\n",
            "(5, 'Arjun')\n"
          ]
        }
      ]
    },
    {
      "cell_type": "markdown",
      "source": [
        "Control Flow Statements"
      ],
      "metadata": {
        "id": "fxivQIt2msyX"
      }
    },
    {
      "cell_type": "code",
      "source": [
        "# If else statement\n",
        "i = 23\n",
        "if i>40:\n",
        "  print(\"Lesser Value\")\n",
        "else:\n",
        "  print(\"Actual is 23\")"
      ],
      "metadata": {
        "colab": {
          "base_uri": "https://localhost:8080/"
        },
        "id": "_tHU-S9OmsPN",
        "outputId": "e7e8c34b-f0f7-4e8c-bcb5-a83e93ccf3ba"
      },
      "execution_count": 1,
      "outputs": [
        {
          "output_type": "stream",
          "name": "stdout",
          "text": [
            "Actual is 23\n"
          ]
        }
      ]
    },
    {
      "cell_type": "code",
      "source": [
        "def SumOfDigits(n):\n",
        "  dsum=0\n",
        "  for el in str(n):\n",
        "    dsum += int(el)\n",
        "  return dsum\n",
        "list_num = [367, 111, 562, 945, 6726, 873]\n",
        "# Applying the function on odd numbers inside the list\n",
        "new_list = [SumOfDigits(i) for i in list_num if i%2 !=0]\n",
        "print(new_list)"
      ],
      "metadata": {
        "colab": {
          "base_uri": "https://localhost:8080/"
        },
        "id": "CpVYDParorWs",
        "outputId": "2d37ad26-2b95-49d7-af8f-1178cba0f66e"
      },
      "execution_count": 6,
      "outputs": [
        {
          "output_type": "stream",
          "name": "stdout",
          "text": [
            "[16, 3, 18, 18]\n"
          ]
        }
      ]
    },
    {
      "cell_type": "code",
      "source": [
        "print(\"20 & 1: (Even Number): \",20 & 1)\n",
        "print(\"21 & 1: (Odd Number): \",21 & 1)"
      ],
      "metadata": {
        "colab": {
          "base_uri": "https://localhost:8080/"
        },
        "id": "iw7KWEG5qgS2",
        "outputId": "cac107b7-8519-4d4d-bec1-f7669fbdf883"
      },
      "execution_count": 5,
      "outputs": [
        {
          "output_type": "stream",
          "name": "stdout",
          "text": [
            "20 & 1: (Even Number):  0\n",
            "21 & 1: (Even Number):  1\n"
          ]
        }
      ]
    },
    {
      "cell_type": "code",
      "source": [
        "# For loop\n",
        "# For loop in a list\n",
        "for i in list_num:\n",
        "  print(i)"
      ],
      "metadata": {
        "colab": {
          "base_uri": "https://localhost:8080/"
        },
        "id": "rceJ7bs3q1i9",
        "outputId": "700508ed-c39d-42f7-e07b-da705e4b620e"
      },
      "execution_count": 7,
      "outputs": [
        {
          "output_type": "stream",
          "name": "stdout",
          "text": [
            "367\n",
            "111\n",
            "562\n",
            "945\n",
            "6726\n",
            "873\n"
          ]
        }
      ]
    },
    {
      "cell_type": "code",
      "source": [
        "# For loop in dictionary\n",
        "dict11 = {1:'I',2:'am',3:{'A':'From','B':'Patna'}}\n",
        "for i in dict11:\n",
        "    print(\"% d % s\" % (i, dict11[i]))"
      ],
      "metadata": {
        "colab": {
          "base_uri": "https://localhost:8080/"
        },
        "id": "k3Wi1ExqxJMa",
        "outputId": "5a4edd96-08cd-464d-c030-ba67a4148169"
      },
      "execution_count": 11,
      "outputs": [
        {
          "output_type": "stream",
          "name": "stdout",
          "text": [
            " 1 I\n",
            " 2 am\n",
            " 3 {'A': 'From', 'B': 'Patna'}\n"
          ]
        }
      ]
    },
    {
      "cell_type": "code",
      "source": [
        "# For loop in string\n",
        "sam_str = \"Philadelphia\"\n",
        "for i in sam_str:\n",
        "    print(i)"
      ],
      "metadata": {
        "colab": {
          "base_uri": "https://localhost:8080/"
        },
        "id": "ZsSJT3oDxWN-",
        "outputId": "18c829a6-bf2a-4f45-ddd2-146c4021aba0"
      },
      "execution_count": 12,
      "outputs": [
        {
          "output_type": "stream",
          "name": "stdout",
          "text": [
            "P\n",
            "h\n",
            "i\n",
            "l\n",
            "a\n",
            "d\n",
            "e\n",
            "l\n",
            "p\n",
            "h\n",
            "i\n",
            "a\n"
          ]
        }
      ]
    },
    {
      "cell_type": "code",
      "source": [
        "# For loop with a step size\n",
        "for i in range(0, 10, 2):\n",
        "    print(i)"
      ],
      "metadata": {
        "colab": {
          "base_uri": "https://localhost:8080/"
        },
        "id": "hnJWE8xmxyCZ",
        "outputId": "2c849726-ea73-4cbe-c429-1f540f62d6c5"
      },
      "execution_count": 13,
      "outputs": [
        {
          "output_type": "stream",
          "name": "stdout",
          "text": [
            "0\n",
            "2\n",
            "4\n",
            "6\n",
            "8\n"
          ]
        }
      ]
    },
    {
      "cell_type": "code",
      "source": [
        "# For loop inside another for loop\n",
        "for i in range(1, 4):\n",
        "    for j in range(1, 4):\n",
        "        print(i, j)"
      ],
      "metadata": {
        "colab": {
          "base_uri": "https://localhost:8080/"
        },
        "id": "34lrYUZMx4uO",
        "outputId": "3ad05dc5-7cb2-4b93-b786-c0c4d3892120"
      },
      "execution_count": 14,
      "outputs": [
        {
          "output_type": "stream",
          "name": "stdout",
          "text": [
            "1 1\n",
            "1 2\n",
            "1 3\n",
            "2 1\n",
            "2 2\n",
            "2 3\n",
            "3 1\n",
            "3 2\n",
            "3 3\n"
          ]
        }
      ]
    },
    {
      "cell_type": "code",
      "source": [
        "# For loop with zip()\n",
        "fruits = [\"apples\", \"bananas\", \"cherries\"]\n",
        "colors = [\"red\", \"yellow\", \"green\"]\n",
        "for fruit, color in zip(fruits, colors):\n",
        "    print(fruit, \"are\", color)"
      ],
      "metadata": {
        "colab": {
          "base_uri": "https://localhost:8080/"
        },
        "id": "5XEh66oKx-yw",
        "outputId": "d043c0a4-88ff-46a5-dc99-6683f54b3db3"
      },
      "execution_count": 15,
      "outputs": [
        {
          "output_type": "stream",
          "name": "stdout",
          "text": [
            "apples are red\n",
            "bananas are yellow\n",
            "cherries are green\n"
          ]
        }
      ]
    },
    {
      "cell_type": "code",
      "source": [
        "# For loop on tuples\n",
        "tup_1 = (61, 27, 3, 47, 58, 66)\n",
        "for a in tup_1:\n",
        "    print(a)"
      ],
      "metadata": {
        "colab": {
          "base_uri": "https://localhost:8080/"
        },
        "id": "BVfxryhbyTAv",
        "outputId": "2a2a7116-20b0-45f2-d073-4dde7d4134f2"
      },
      "execution_count": 17,
      "outputs": [
        {
          "output_type": "stream",
          "name": "stdout",
          "text": [
            "61\n",
            "27\n",
            "3\n",
            "47\n",
            "58\n",
            "66\n"
          ]
        }
      ]
    },
    {
      "cell_type": "code",
      "source": [
        "# For loop on tuple of tuples\n",
        "tup_2 = ((1, 2), (3, 4), (5, 6))\n",
        "for a, b in tup_2:\n",
        "    print(a, b)"
      ],
      "metadata": {
        "colab": {
          "base_uri": "https://localhost:8080/"
        },
        "id": "1rVmtaC0yJ7y",
        "outputId": "1d8239f1-2a5e-40e1-d9c2-49c90e58c3fa"
      },
      "execution_count": 18,
      "outputs": [
        {
          "output_type": "stream",
          "name": "stdout",
          "text": [
            "1 2\n",
            "3 4\n",
            "5 6\n"
          ]
        }
      ]
    },
    {
      "cell_type": "code",
      "source": [
        "# For loop with continue\n",
        "# Prints all letters except 'e' and 's'\n",
        "for letter in 'Life is fair':\n",
        "\n",
        "    if letter == 'e' or letter == 's':\n",
        "        continue\n",
        "    print('Current Letter :', letter)"
      ],
      "metadata": {
        "colab": {
          "base_uri": "https://localhost:8080/"
        },
        "id": "E85jRgqDylDv",
        "outputId": "e974dab6-c235-41f8-df0a-a052b53d9ab7"
      },
      "execution_count": 20,
      "outputs": [
        {
          "output_type": "stream",
          "name": "stdout",
          "text": [
            "Current Letter : L\n",
            "Current Letter : i\n",
            "Current Letter : f\n",
            "Current Letter :  \n",
            "Current Letter : i\n",
            "Current Letter :  \n",
            "Current Letter : f\n",
            "Current Letter : a\n",
            "Current Letter : i\n",
            "Current Letter : r\n"
          ]
        }
      ]
    },
    {
      "cell_type": "code",
      "source": [
        "# For loop with break\n",
        "for letter in 'Life is fair':\n",
        "    if letter == 'e' or letter == 's':\n",
        "        break\n",
        "    print('Current Letter :', letter)\n",
        "print('Letter : ',letter)"
      ],
      "metadata": {
        "colab": {
          "base_uri": "https://localhost:8080/"
        },
        "id": "Szr25B94zPSt",
        "outputId": "7962d611-13d7-4ec5-8ebf-71540e16bdf6"
      },
      "execution_count": 26,
      "outputs": [
        {
          "output_type": "stream",
          "name": "stdout",
          "text": [
            "Current Letter : L\n",
            "Current Letter : i\n",
            "Current Letter : f\n",
            "Letter :  e\n"
          ]
        }
      ]
    },
    {
      "cell_type": "code",
      "source": [
        "# For loop with pass\n",
        "for letter in 'Life':\n",
        "    pass\n",
        "print('Last Letter :', letter)"
      ],
      "metadata": {
        "colab": {
          "base_uri": "https://localhost:8080/"
        },
        "id": "fphx2m0fztdJ",
        "outputId": "e5d49d39-27c8-49f4-ec63-7d33f3f5e447"
      },
      "execution_count": 27,
      "outputs": [
        {
          "output_type": "stream",
          "name": "stdout",
          "text": [
            "Last Letter : e\n"
          ]
        }
      ]
    },
    {
      "cell_type": "code",
      "source": [
        "# While loop\n",
        "count = 0\n",
        "while (count < 3):\n",
        "    count += 1\n",
        "    print(\"Hello World!\")"
      ],
      "metadata": {
        "colab": {
          "base_uri": "https://localhost:8080/"
        },
        "id": "oEoUQLoyz3Ik",
        "outputId": "bde6e13d-99f8-4b10-8a09-ad6bee5d7fc9"
      },
      "execution_count": 29,
      "outputs": [
        {
          "output_type": "stream",
          "name": "stdout",
          "text": [
            "Hello World!\n",
            "Hello World!\n",
            "Hello World!\n"
          ]
        }
      ]
    },
    {
      "cell_type": "code",
      "source": [
        "# While loop with list\n",
        "while list_num:\n",
        "    print(list_num.pop())"
      ],
      "metadata": {
        "colab": {
          "base_uri": "https://localhost:8080/"
        },
        "id": "HH-RsZy11_75",
        "outputId": "5b248e72-9855-49aa-ac73-99975e2f9612"
      },
      "execution_count": 30,
      "outputs": [
        {
          "output_type": "stream",
          "name": "stdout",
          "text": [
            "873\n",
            "6726\n",
            "945\n",
            "562\n",
            "111\n",
            "367\n"
          ]
        }
      ]
    },
    {
      "cell_type": "code",
      "source": [
        "# While loop with continue\n",
        "# Prints all letters except 'e' and 's'\n",
        "i = 0\n",
        "a = 'Life is good'\n",
        "\n",
        "while i < len(a):\n",
        "    if a[i] == 'e' or a[i] == 'o':\n",
        "        i += 1\n",
        "        continue\n",
        "\n",
        "    print('Current Letter :', a[i])\n",
        "    i += 1"
      ],
      "metadata": {
        "colab": {
          "base_uri": "https://localhost:8080/"
        },
        "id": "RreKmUMp2V73",
        "outputId": "1867b1b8-a599-4a80-fbb1-489a19c5d51e"
      },
      "execution_count": 31,
      "outputs": [
        {
          "output_type": "stream",
          "name": "stdout",
          "text": [
            "Current Letter : L\n",
            "Current Letter : i\n",
            "Current Letter : f\n",
            "Current Letter :  \n",
            "Current Letter : i\n",
            "Current Letter : s\n",
            "Current Letter :  \n",
            "Current Letter : g\n",
            "Current Letter : d\n"
          ]
        }
      ]
    },
    {
      "cell_type": "code",
      "source": [
        "# While loop with break\n",
        "# break the loop as soon it sees 'e'\n",
        "# or 's'\n",
        "i = 0\n",
        "a = 'Life is good'\n",
        "\n",
        "while i < len(a):\n",
        "    if a[i] == 'e' or a[i] == 's':\n",
        "        i += 1\n",
        "        break\n",
        "\n",
        "    print('Current Letter :', a[i])\n",
        "    i += 1"
      ],
      "metadata": {
        "colab": {
          "base_uri": "https://localhost:8080/"
        },
        "id": "-z159Q6k2oCP",
        "outputId": "15291b09-c365-4c65-da9e-b682ee91814e"
      },
      "execution_count": 32,
      "outputs": [
        {
          "output_type": "stream",
          "name": "stdout",
          "text": [
            "Current Letter : L\n",
            "Current Letter : i\n",
            "Current Letter : f\n"
          ]
        }
      ]
    },
    {
      "cell_type": "code",
      "source": [
        "# While loop with pass -  An empty loop\n",
        "a = 'Life is good'\n",
        "i = 0\n",
        "\n",
        "while i < len(a):\n",
        "    i += 1\n",
        "    pass\n",
        "\n",
        "print('Value of i :', i)"
      ],
      "metadata": {
        "colab": {
          "base_uri": "https://localhost:8080/"
        },
        "id": "M4GNomrR2zOG",
        "outputId": "064ea542-6228-4d74-de3e-5486ce4877eb"
      },
      "execution_count": 34,
      "outputs": [
        {
          "output_type": "stream",
          "name": "stdout",
          "text": [
            "Value of i : 12\n"
          ]
        }
      ]
    },
    {
      "cell_type": "code",
      "source": [
        "# While-else loop\n",
        "i = 0\n",
        "while i < 5:\n",
        "    i += 1\n",
        "    print(i)\n",
        "else:  # Executed because no break in for\n",
        "    print(\"No Break\\n\")\n",
        "\n",
        "i = 0\n",
        "while i < 5:\n",
        "    i += 1\n",
        "    print(i)\n",
        "    break\n",
        "else:  # Not executed as there is a break\n",
        "    print(\"No Break\")"
      ],
      "metadata": {
        "colab": {
          "base_uri": "https://localhost:8080/"
        },
        "id": "SsbbsdJD295e",
        "outputId": "bdc77acf-35ee-406e-9967-cd5da18c5a67"
      },
      "execution_count": 35,
      "outputs": [
        {
          "output_type": "stream",
          "name": "stdout",
          "text": [
            "1\n",
            "2\n",
            "3\n",
            "4\n",
            "5\n",
            "No Break\n",
            "\n",
            "1\n"
          ]
        }
      ]
    }
  ]
}