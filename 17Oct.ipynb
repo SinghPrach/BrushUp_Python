{
  "nbformat": 4,
  "nbformat_minor": 0,
  "metadata": {
    "colab": {
      "provenance": [],
      "authorship_tag": "ABX9TyPrKwHudYopD8zq/qetqxUV",
      "include_colab_link": true
    },
    "kernelspec": {
      "name": "python3",
      "display_name": "Python 3"
    },
    "language_info": {
      "name": "python"
    }
  },
  "cells": [
    {
      "cell_type": "markdown",
      "metadata": {
        "id": "view-in-github",
        "colab_type": "text"
      },
      "source": [
        "<a href=\"https://colab.research.google.com/github/SinghPrach/BrushUp_Python/blob/main/17Oct.ipynb\" target=\"_parent\"><img src=\"https://colab.research.google.com/assets/colab-badge.svg\" alt=\"Open In Colab\"/></a>"
      ]
    },
    {
      "cell_type": "markdown",
      "source": [
        "Sets in python"
      ],
      "metadata": {
        "id": "sWnZZvSbYH0L"
      }
    },
    {
      "cell_type": "code",
      "execution_count": 3,
      "metadata": {
        "colab": {
          "base_uri": "https://localhost:8080/"
        },
        "id": "C3Y7F0lGXmtR",
        "outputId": "db3516cb-7591-422f-97fe-82eb298ccf42"
      },
      "outputs": [
        {
          "output_type": "stream",
          "name": "stdout",
          "text": [
            "<class 'set'>\n",
            "{'Go', 'In', 23}\n",
            "{'23', 'In', 23}\n"
          ]
        }
      ],
      "source": [
        "# Creating sets\n",
        "set_1 = {23,\"Go\",\"In\"}\n",
        "print(type(set_1))\n",
        "print(set_1)\n",
        "set_2 = {23,\"23\",\"In\",\"In\"}\n",
        "print(set_2)"
      ]
    },
    {
      "cell_type": "code",
      "source": [
        "# Converting list to set\n",
        "list_1 = [9,24,\"Hi\",90,9,\"Hi\",\"PS\"]\n",
        "set_3 = set(list_1)\n",
        "print(set_3)"
      ],
      "metadata": {
        "colab": {
          "base_uri": "https://localhost:8080/"
        },
        "id": "eDAU0KBUYX83",
        "outputId": "f2331ecb-e3b7-47e5-b1ce-96369a33325e"
      },
      "execution_count": 4,
      "outputs": [
        {
          "output_type": "stream",
          "name": "stdout",
          "text": [
            "{'Hi', 'PS', 9, 24, 90}\n"
          ]
        }
      ]
    },
    {
      "cell_type": "code",
      "source": [
        "set_4 = {2098,9872,673,0,23,4,1,3}\n",
        "print(set_4)"
      ],
      "metadata": {
        "colab": {
          "base_uri": "https://localhost:8080/"
        },
        "id": "Lncy_6u4YlY9",
        "outputId": "f3f04489-7ca9-4bd8-8141-9092a7874e80"
      },
      "execution_count": 5,
      "outputs": [
        {
          "output_type": "stream",
          "name": "stdout",
          "text": [
            "{0, 673, 1, 3, 4, 9872, 2098, 23}\n"
          ]
        }
      ]
    },
    {
      "cell_type": "code",
      "source": [
        "frozen_set1 = frozenset(set_4)\n",
        "print(frozen_set1)\n",
        "frozen_set2 = frozenset(list_1)\n",
        "print(frozen_set2)"
      ],
      "metadata": {
        "colab": {
          "base_uri": "https://localhost:8080/"
        },
        "id": "kTFCdgqEaJ3i",
        "outputId": "09464bb2-a247-43d5-e820-47317cba7fab"
      },
      "execution_count": 9,
      "outputs": [
        {
          "output_type": "stream",
          "name": "stdout",
          "text": [
            "frozenset({0, 673, 1, 3, 4, 9872, 2098, 23})\n",
            "frozenset({'Hi', 'PS', 9, 24, 90})\n"
          ]
        }
      ]
    },
    {
      "cell_type": "code",
      "source": [
        "# Methods on Sets\n",
        "# Adding elements to python sets\n",
        "set_3.add(23)\n",
        "print(set_3)\n",
        "set_4.add(\"Hey\")\n",
        "print(set_4)"
      ],
      "metadata": {
        "colab": {
          "base_uri": "https://localhost:8080/"
        },
        "id": "L5i5ZZFeaOJJ",
        "outputId": "9cd7b2ef-5189-40f9-f2bd-856f59327d82"
      },
      "execution_count": 11,
      "outputs": [
        {
          "output_type": "stream",
          "name": "stdout",
          "text": [
            "{'Hi', 'PS', 9, 23, 24, 90}\n",
            "{0, 673, 1, 3, 4, 'Hey', 9872, 2098, 23}\n"
          ]
        }
      ]
    },
    {
      "cell_type": "code",
      "source": [
        "# Union Operation on sets\n",
        "set_union1 = set_1.union(set_2)\n",
        "print(set_union1)\n",
        "set_union2 = set_1.union(set_2).union(set_3)\n",
        "print(set_union2)\n",
        "set_union3 = set_1 | set_2\n",
        "print(set_union3)\n",
        "set_union4 = set_1| set_2 | set_3\n",
        "print(set_union4)"
      ],
      "metadata": {
        "colab": {
          "base_uri": "https://localhost:8080/"
        },
        "id": "HnMgQO3viNiY",
        "outputId": "418d93ea-aea7-4975-9309-31c29fee3c6f"
      },
      "execution_count": 12,
      "outputs": [
        {
          "output_type": "stream",
          "name": "stdout",
          "text": [
            "{'23', 23, 'Go', 'In'}\n",
            "{'Hi', 'PS', 9, 'In', '23', 23, 'Go', 24, 90}\n",
            "{'23', 23, 'Go', 'In'}\n",
            "{'Hi', 'PS', 9, 'In', '23', 23, 'Go', 24, 90}\n"
          ]
        }
      ]
    },
    {
      "cell_type": "code",
      "source": [
        "# Intersection Operation on sets\n",
        "set_intersect1 = set_3.intersection(set_union2)\n",
        "print(set_intersect1)\n",
        "set_intersect2 = set_3 & set_union2\n",
        "print(set_intersect2)\n",
        "set_intersect3 = set_3.intersection(set_union2).intersection(set_intersect1)\n",
        "print(set_intersect3)\n",
        "set_intersect4 = set_3 & set_union2 & set_intersect1\n",
        "print(set_intersect4)"
      ],
      "metadata": {
        "colab": {
          "base_uri": "https://localhost:8080/"
        },
        "id": "jIWimCgSmUNv",
        "outputId": "e2ba9ad8-4a44-4977-86ff-a8415dafa430"
      },
      "execution_count": 15,
      "outputs": [
        {
          "output_type": "stream",
          "name": "stdout",
          "text": [
            "{'Hi', 'PS', 9, 23, 24, 90}\n",
            "{'Hi', 'PS', 9, 23, 24, 90}\n",
            "{'Hi', 'PS', 9, 23, 24, 90}\n",
            "{'Hi', 'PS', 9, 23, 24, 90}\n"
          ]
        }
      ]
    },
    {
      "cell_type": "code",
      "source": [
        "# Difference of sets\n",
        "set_diff1 = set_union2.difference(set_intersect1)\n",
        "print(set_diff1)\n",
        "set_diff2 = set_union2-set_intersect1\n",
        "print(set_diff2)\n",
        "set_diff3 = set_union2.difference(set_intersect1).difference(set_union3)\n",
        "print(set_diff3)\n",
        "set_diff4 = set_union2-set_intersect1-set_4\n",
        "print(set_diff4)"
      ],
      "metadata": {
        "colab": {
          "base_uri": "https://localhost:8080/"
        },
        "id": "8EKphl4BnRNe",
        "outputId": "c2c44bfd-b178-411a-b0bf-3366cdbf2932"
      },
      "execution_count": 18,
      "outputs": [
        {
          "output_type": "stream",
          "name": "stdout",
          "text": [
            "{'Go', '23', 'In'}\n",
            "{'Go', '23', 'In'}\n",
            "set()\n",
            "{'Go', '23', 'In'}\n"
          ]
        }
      ]
    },
    {
      "cell_type": "code",
      "source": [
        "# Clearing of sets\n",
        "set_diff4.clear()\n",
        "print(set_diff4)"
      ],
      "metadata": {
        "colab": {
          "base_uri": "https://localhost:8080/"
        },
        "id": "7K3Yn9LXoSYM",
        "outputId": "a44101cf-3810-4430-ad97-404fa0f3117e"
      },
      "execution_count": 19,
      "outputs": [
        {
          "output_type": "stream",
          "name": "stdout",
          "text": [
            "set()\n"
          ]
        }
      ]
    },
    {
      "cell_type": "code",
      "source": [
        "print(23 in set_union2)\n",
        "print(23 not in set_union2)\n",
        "print(set_union4 != set_union2)\n",
        "print(set_union4 == set_union2)\n",
        "print(set_union4 <= set_union2)\n",
        "print(set_union4 >= set_union2)\n",
        "print(set_union4 < set_union2)\n",
        "print(set_union4 > set_union2)\n",
        "print(set_union3 ^ set_union2)\n",
        "print(set_union2 ^ set_union3)"
      ],
      "metadata": {
        "colab": {
          "base_uri": "https://localhost:8080/"
        },
        "id": "Dsix9O1Cpe4u",
        "outputId": "6ee674e9-b719-4134-ce19-be00ae722478"
      },
      "execution_count": 25,
      "outputs": [
        {
          "output_type": "stream",
          "name": "stdout",
          "text": [
            "True\n",
            "False\n",
            "False\n",
            "True\n",
            "True\n",
            "True\n",
            "False\n",
            "False\n",
            "{'Hi', 'PS', 9, 24, 90}\n",
            "{'Hi', 'PS', 9, 24, 90}\n"
          ]
        }
      ]
    },
    {
      "cell_type": "code",
      "source": [
        "from functools import reduce"
      ],
      "metadata": {
        "id": "bbW94ZHjt_ys"
      },
      "execution_count": 26,
      "outputs": []
    },
    {
      "cell_type": "code",
      "source": [
        "# Appending multiple elements to a set\n",
        "update_list_elements = [\"Let's\",\"add\",\"new\",\"element\",27]\n",
        "# Using Update method\n",
        "set_diff2.update(update_list_elements)\n",
        "print(set_diff2)\n",
        "# Using pipe | operator\n",
        "set_diff4 |= set(update_list_elements)\n",
        "print(set_diff4)\n",
        "# Using list comprehension\n",
        "set_to_list = list(set_diff1)\n",
        "set_to_list += [ele for ele in update_list_elements if ele not in set_to_list]\n",
        "list_to_set = set(set_to_list)\n",
        "print(list_to_set)\n",
        "# Using reduce()\n",
        "result_set = reduce(lambda res, ele: res.union(set([ele])), update_list_elements, set_intersect1)\n",
        "print(result_set)"
      ],
      "metadata": {
        "colab": {
          "base_uri": "https://localhost:8080/"
        },
        "id": "Mejravikq3Xw",
        "outputId": "8e34c290-b456-4efe-c670-a656cb8c8b17"
      },
      "execution_count": 27,
      "outputs": [
        {
          "output_type": "stream",
          "name": "stdout",
          "text": [
            "{'new', 'element', 'In', '23', \"Let's\", 'add', 'Go', 27}\n",
            "{\"Let's\", 'add', 27, 'element', 'new'}\n",
            "{'new', 'element', 'In', '23', \"Let's\", 'add', 'Go', 27}\n",
            "{'Hi', 'PS', 9, 'new', 'element', \"Let's\", 'add', 23, 24, 90, 27}\n"
          ]
        }
      ]
    },
    {
      "cell_type": "code",
      "source": [
        "# Update() method\n",
        "# Python set list update\n",
        "set_5 = {23,\"you\",\"with\",1}\n",
        "list_1 = [90,\"p\",2]\n",
        "set_6 = set(list_1)\n",
        "set_6.update(set_5)\n",
        "set_5.update(list_1)\n",
        "print(set_6)\n",
        "print(set_5)\n",
        "# Adding dictionary to a set\n",
        "num_set = {1, 2, 3, 4, 5}\n",
        "num_Dict = {6: 'Six', 7: 'Seven', 8: 'Eight',\n",
        "            9: 'Nine', 10: 'Ten'}\n",
        "num_set.update(num_Dict)\n",
        "print(num_set)"
      ],
      "metadata": {
        "colab": {
          "base_uri": "https://localhost:8080/"
        },
        "id": "w5dQZvTrrkyq",
        "outputId": "d9ddce6b-185e-48d9-9248-32c16584636c"
      },
      "execution_count": 32,
      "outputs": [
        {
          "output_type": "stream",
          "name": "stdout",
          "text": [
            "{'you', 1, 2, 'p', 'with', 23, 90}\n",
            "{1, 2, 'p', 'you', 'with', 23, 90}\n",
            "{1, 2, 3, 4, 5, 6, 7, 8, 9, 10}\n"
          ]
        }
      ]
    },
    {
      "cell_type": "code",
      "source": [
        "# Removing items from set\n",
        "# Using pop()\n",
        "set_5.pop()\n",
        "print(set_5)\n",
        "# Using discard()\n",
        "set_6 = set([12, 10, 13, 15, 8, 9])\n",
        "set_6.discard(max(set_6))\n",
        "print(set_6)\n",
        "# Using remove()\n",
        "set_7 = set([12, 10, 13, 15, 8, 9])\n",
        "set_7.remove(next(iter(set_7)))\n",
        "print(set_7)"
      ],
      "metadata": {
        "colab": {
          "base_uri": "https://localhost:8080/"
        },
        "id": "jhFOIBu8whMZ",
        "outputId": "02e7ebbd-7835-4bcc-8e80-139f8f885493"
      },
      "execution_count": 35,
      "outputs": [
        {
          "output_type": "stream",
          "name": "stdout",
          "text": [
            "{'you', 'with', 23, 90}\n",
            "{8, 9, 10, 12, 13}\n",
            "{9, 10, 12, 13, 15}\n"
          ]
        }
      ]
    },
    {
      "cell_type": "code",
      "source": [
        "# Check if a set contains an element\n",
        "import random\n",
        "from collections import Counter\n",
        "import operator as op\n",
        "# Using in operator\n",
        "print(9 in set_7)\n",
        "# Using not in operator\n",
        "print(9 not in set_7)\n",
        "# Using counter()\n",
        "freq = Counter(set_7)\n",
        "print(7058 in freq.keys())\n",
        "print(9 in freq.keys())\n",
        "# Using operator.countOf()\n",
        "print(op.countOf(set_7, 9) > 0)\n",
        "print(op.countOf(set_7, 7058) > 0)"
      ],
      "metadata": {
        "colab": {
          "base_uri": "https://localhost:8080/"
        },
        "id": "lahk2qmyyTop",
        "outputId": "16863d9a-1bb3-463e-a656-8634fbea79a8"
      },
      "execution_count": 38,
      "outputs": [
        {
          "output_type": "stream",
          "name": "stdout",
          "text": [
            "True\n",
            "False\n",
            "False\n",
            "True\n",
            "True\n",
            "False\n"
          ]
        }
      ]
    }
  ]
}